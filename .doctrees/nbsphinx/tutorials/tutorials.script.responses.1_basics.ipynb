{
 "cells": [
  {
   "cell_type": "markdown",
   "id": "6e696927",
   "metadata": {
    "cell_marker": "\"\"\""
   },
   "source": [
    "# Responses: 1. Basics\n",
    "\n",
    "Here, the process of response forming is shown.\n",
    "Special keywords [RESPONSE](../apiref/chatsky.script.core.keywords.rst#chatsky.script.core.keywords.Keywords.RESPONSE)\n",
    "and [TRANSITIONS](../apiref/chatsky.script.core.keywords.rst#chatsky.script.core.keywords.Keywords.TRANSITIONS)\n",
    "are used for that."
   ]
  },
  {
   "cell_type": "code",
   "execution_count": 1,
   "id": "2fc0d541",
   "metadata": {
    "execution": {
     "iopub.execute_input": "2024-07-05T10:58:25.976942Z",
     "iopub.status.busy": "2024-07-05T10:58:25.976625Z",
     "iopub.status.idle": "2024-07-05T10:58:27.260374Z",
     "shell.execute_reply": "2024-07-05T10:58:27.259248Z"
    }
   },
   "outputs": [
    {
     "name": "stdout",
     "output_type": "stream",
     "text": [
      "\r\n",
      "\u001b[1m[\u001b[0m\u001b[34;49mnotice\u001b[0m\u001b[1;39;49m]\u001b[0m\u001b[39;49m A new release of pip is available: \u001b[0m\u001b[31;49m24.1\u001b[0m\u001b[39;49m -> \u001b[0m\u001b[32;49m24.1.1\u001b[0m\r\n",
      "\u001b[1m[\u001b[0m\u001b[34;49mnotice\u001b[0m\u001b[1;39;49m]\u001b[0m\u001b[39;49m To update, run: \u001b[0m\u001b[32;49mpip install --upgrade pip\u001b[0m\r\n"
     ]
    },
    {
     "name": "stdout",
     "output_type": "stream",
     "text": [
      "Note: you may need to restart the kernel to use updated packages.\n"
     ]
    }
   ],
   "source": [
    "# installing dependencies\n",
    "%pip install -q chatsky"
   ]
  },
  {
   "cell_type": "code",
   "execution_count": 2,
   "id": "03e22640",
   "metadata": {
    "execution": {
     "iopub.execute_input": "2024-07-05T10:58:27.264359Z",
     "iopub.status.busy": "2024-07-05T10:58:27.264091Z",
     "iopub.status.idle": "2024-07-05T10:58:28.131357Z",
     "shell.execute_reply": "2024-07-05T10:58:28.130550Z"
    },
    "lines_to_next_cell": 2
   },
   "outputs": [],
   "source": [
    "from typing import NamedTuple\n",
    "\n",
    "from chatsky.script import Message\n",
    "from chatsky.script.conditions import exact_match\n",
    "from chatsky.script import RESPONSE, TRANSITIONS\n",
    "from chatsky.pipeline import Pipeline\n",
    "from chatsky.utils.testing import (\n",
    "    check_happy_path,\n",
    "    is_interactive_mode,\n",
    "    run_interactive_mode,\n",
    ")"
   ]
  },
  {
   "cell_type": "code",
   "execution_count": 3,
   "id": "9da093e0",
   "metadata": {
    "execution": {
     "iopub.execute_input": "2024-07-05T10:58:28.135900Z",
     "iopub.status.busy": "2024-07-05T10:58:28.135479Z",
     "iopub.status.idle": "2024-07-05T10:58:28.144430Z",
     "shell.execute_reply": "2024-07-05T10:58:28.143566Z"
    }
   },
   "outputs": [],
   "source": [
    "toy_script = {\n",
    "    \"greeting_flow\": {\n",
    "        \"start_node\": {\n",
    "            RESPONSE: Message(\"\"),\n",
    "            TRANSITIONS: {\"node1\": exact_match(\"Hi\")},\n",
    "        },\n",
    "        \"node1\": {\n",
    "            RESPONSE: Message(\"Hi, how are you?\"),\n",
    "            TRANSITIONS: {\"node2\": exact_match(\"i'm fine, how are you?\")},\n",
    "        },\n",
    "        \"node2\": {\n",
    "            RESPONSE: Message(\"Good. What do you want to talk about?\"),\n",
    "            TRANSITIONS: {\"node3\": exact_match(\"Let's talk about music.\")},\n",
    "        },\n",
    "        \"node3\": {\n",
    "            RESPONSE: Message(\"Sorry, I can not talk about music now.\"),\n",
    "            TRANSITIONS: {\"node4\": exact_match(\"Ok, goodbye.\")},\n",
    "        },\n",
    "        \"node4\": {\n",
    "            RESPONSE: Message(\"bye\"),\n",
    "            TRANSITIONS: {\"node1\": exact_match(\"Hi\")},\n",
    "        },\n",
    "        \"fallback_node\": {\n",
    "            RESPONSE: Message(\"Ooops\"),\n",
    "            TRANSITIONS: {\"node1\": exact_match(\"Hi\")},\n",
    "        },\n",
    "    }\n",
    "}\n",
    "\n",
    "happy_path = (\n",
    "    (Message(\"Hi\"), Message(\"Hi, how are you?\")),\n",
    "    (\n",
    "        Message(\"i'm fine, how are you?\"),\n",
    "        Message(\"Good. What do you want to talk about?\"),\n",
    "    ),\n",
    "    (\n",
    "        Message(\"Let's talk about music.\"),\n",
    "        Message(\"Sorry, I can not talk about music now.\"),\n",
    "    ),\n",
    "    (Message(\"Ok, goodbye.\"), Message(\"bye\")),\n",
    "    (Message(\"Hi\"), Message(\"Hi, how are you?\")),\n",
    "    (Message(\"stop\"), Message(\"Ooops\")),\n",
    "    (Message(\"stop\"), Message(\"Ooops\")),\n",
    "    (Message(\"Hi\"), Message(\"Hi, how are you?\")),\n",
    "    (\n",
    "        Message(\"i'm fine, how are you?\"),\n",
    "        Message(\"Good. What do you want to talk about?\"),\n",
    "    ),\n",
    "    (\n",
    "        Message(\"Let's talk about music.\"),\n",
    "        Message(\"Sorry, I can not talk about music now.\"),\n",
    "    ),\n",
    "    (Message(\"Ok, goodbye.\"), Message(\"bye\")),\n",
    ")"
   ]
  },
  {
   "cell_type": "code",
   "execution_count": 4,
   "id": "45b51eae",
   "metadata": {
    "execution": {
     "iopub.execute_input": "2024-07-05T10:58:28.149569Z",
     "iopub.status.busy": "2024-07-05T10:58:28.148875Z",
     "iopub.status.idle": "2024-07-05T10:58:28.154439Z",
     "shell.execute_reply": "2024-07-05T10:58:28.153484Z"
    }
   },
   "outputs": [],
   "source": [
    "class CallbackRequest(NamedTuple):\n",
    "    payload: str"
   ]
  },
  {
   "cell_type": "code",
   "execution_count": 5,
   "id": "f5c1c172",
   "metadata": {
    "execution": {
     "iopub.execute_input": "2024-07-05T10:58:28.158799Z",
     "iopub.status.busy": "2024-07-05T10:58:28.157896Z",
     "iopub.status.idle": "2024-07-05T10:58:28.192918Z",
     "shell.execute_reply": "2024-07-05T10:58:28.191908Z"
    }
   },
   "outputs": [
    {
     "name": "stdout",
     "output_type": "stream",
     "text": [
      "(user) >>> text='Hi'\n",
      " (bot) <<< text='Hi, how are you?'\n",
      "(user) >>> text='i'm fine, how are you?'\n",
      " (bot) <<< text='Good. What do you want to talk about?'\n",
      "(user) >>> text='Let's talk about music.'\n",
      " (bot) <<< text='Sorry, I can not talk about music now.'\n",
      "(user) >>> text='Ok, goodbye.'\n",
      " (bot) <<< text='bye'\n",
      "(user) >>> text='Hi'\n",
      " (bot) <<< text='Hi, how are you?'\n",
      "(user) >>> text='stop'\n",
      " (bot) <<< text='Ooops'\n",
      "(user) >>> text='stop'\n",
      " (bot) <<< text='Ooops'\n",
      "(user) >>> text='Hi'\n",
      " (bot) <<< text='Hi, how are you?'\n",
      "(user) >>> text='i'm fine, how are you?'\n",
      " (bot) <<< text='Good. What do you want to talk about?'\n",
      "(user) >>> text='Let's talk about music.'\n",
      " (bot) <<< text='Sorry, I can not talk about music now.'\n",
      "(user) >>> text='Ok, goodbye.'\n",
      " (bot) <<< text='bye'\n"
     ]
    }
   ],
   "source": [
    "pipeline = Pipeline.from_script(\n",
    "    toy_script,\n",
    "    start_label=(\"greeting_flow\", \"start_node\"),\n",
    "    fallback_label=(\"greeting_flow\", \"fallback_node\"),\n",
    ")\n",
    "\n",
    "if __name__ == \"__main__\":\n",
    "    check_happy_path(\n",
    "        pipeline,\n",
    "        happy_path,\n",
    "    )  # This is a function for automatic tutorial running\n",
    "    # (testing) with `happy_path`\n",
    "\n",
    "    # This runs tutorial in interactive mode if not in IPython env\n",
    "    # and if `DISABLE_INTERACTIVE_MODE` is not set\n",
    "    if is_interactive_mode():\n",
    "        run_interactive_mode(pipeline)  # This runs tutorial in interactive mode"
   ]
  }
 ],
 "metadata": {
  "jupytext": {
   "cell_metadata_filter": "-all",
   "main_language": "python",
   "notebook_metadata_filter": "-all",
   "text_representation": {
    "extension": ".py",
    "format_name": "percent"
   }
  },
  "language_info": {
   "codemirror_mode": {
    "name": "ipython",
    "version": 3
   },
   "file_extension": ".py",
   "mimetype": "text/x-python",
   "name": "python",
   "nbconvert_exporter": "python",
   "pygments_lexer": "ipython3",
   "version": "3.9.19"
  }
 },
 "nbformat": 4,
 "nbformat_minor": 5
}
