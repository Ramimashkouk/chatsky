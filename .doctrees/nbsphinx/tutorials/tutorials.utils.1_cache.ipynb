{
 "cells": [
  {
   "cell_type": "markdown",
   "id": "b86df800",
   "metadata": {
    "cell_marker": "\"\"\""
   },
   "source": [
    "# 1. Cache\n",
    "\n",
    "In this tutorial use of\n",
    "[cache](../apiref/chatsky.utils.turn_caching.singleton_turn_caching.rst#chatsky.utils.turn_caching.singleton_turn_caching.cache)\n",
    "function is demonstrated.\n",
    "\n",
    "This function is used a lot like `functools.cache` function and\n",
    "helps by saving results of heavy function execution and avoiding recalculation.\n",
    "\n",
    "Caches are kept in a library-wide singleton\n",
    "and are cleared at the end of each turn."
   ]
  },
  {
   "cell_type": "code",
   "execution_count": 1,
   "id": "9af0a717",
   "metadata": {
    "execution": {
     "iopub.execute_input": "2024-07-05T10:58:52.810866Z",
     "iopub.status.busy": "2024-07-05T10:58:52.810387Z",
     "iopub.status.idle": "2024-07-05T10:58:54.152324Z",
     "shell.execute_reply": "2024-07-05T10:58:54.151257Z"
    }
   },
   "outputs": [
    {
     "name": "stdout",
     "output_type": "stream",
     "text": [
      "\r\n",
      "\u001b[1m[\u001b[0m\u001b[34;49mnotice\u001b[0m\u001b[1;39;49m]\u001b[0m\u001b[39;49m A new release of pip is available: \u001b[0m\u001b[31;49m24.1\u001b[0m\u001b[39;49m -> \u001b[0m\u001b[32;49m24.1.1\u001b[0m\r\n",
      "\u001b[1m[\u001b[0m\u001b[34;49mnotice\u001b[0m\u001b[1;39;49m]\u001b[0m\u001b[39;49m To update, run: \u001b[0m\u001b[32;49mpip install --upgrade pip\u001b[0m\r\n"
     ]
    },
    {
     "name": "stdout",
     "output_type": "stream",
     "text": [
      "Note: you may need to restart the kernel to use updated packages.\n"
     ]
    }
   ],
   "source": [
    "# installing dependencies\n",
    "%pip install -q chatsky"
   ]
  },
  {
   "cell_type": "code",
   "execution_count": 2,
   "id": "9da42eb1",
   "metadata": {
    "execution": {
     "iopub.execute_input": "2024-07-05T10:58:54.156341Z",
     "iopub.status.busy": "2024-07-05T10:58:54.155976Z",
     "iopub.status.idle": "2024-07-05T10:58:55.002713Z",
     "shell.execute_reply": "2024-07-05T10:58:55.001122Z"
    }
   },
   "outputs": [],
   "source": [
    "from chatsky.script.conditions import true\n",
    "from chatsky.script import Context, TRANSITIONS, RESPONSE, Message\n",
    "from chatsky.script.labels import repeat\n",
    "from chatsky.pipeline import Pipeline\n",
    "from chatsky.utils.turn_caching import cache\n",
    "from chatsky.utils.testing.common import (\n",
    "    check_happy_path,\n",
    "    is_interactive_mode,\n",
    "    run_interactive_mode,\n",
    ")\n",
    "\n",
    "\n",
    "external_data = {\"counter\": 0}"
   ]
  },
  {
   "cell_type": "code",
   "execution_count": 3,
   "id": "fe04a8b8",
   "metadata": {
    "execution": {
     "iopub.execute_input": "2024-07-05T10:58:55.008915Z",
     "iopub.status.busy": "2024-07-05T10:58:55.007992Z",
     "iopub.status.idle": "2024-07-05T10:58:55.014830Z",
     "shell.execute_reply": "2024-07-05T10:58:55.013991Z"
    }
   },
   "outputs": [],
   "source": [
    "@cache\n",
    "def cached_response(_):\n",
    "    \"\"\"\n",
    "    This function execution result will be saved\n",
    "    for any set of given argument(s).\n",
    "    If the function will be called again\n",
    "    with the same arguments it will prevent it from execution.\n",
    "    The cached values will be used instead.\n",
    "    The cache is stored in a library-wide singleton,\n",
    "    that is cleared in the end of execution of actor and/or pipeline.\n",
    "    \"\"\"\n",
    "    external_data[\"counter\"] += 1\n",
    "    return external_data[\"counter\"]\n",
    "\n",
    "\n",
    "def response(_: Context, __: Pipeline) -> Message:\n",
    "    return Message(\n",
    "        text=f\"{cached_response(1)}-{cached_response(2)}-\"\n",
    "        f\"{cached_response(1)}-{cached_response(2)}\"\n",
    "    )"
   ]
  },
  {
   "cell_type": "code",
   "execution_count": 4,
   "id": "19308d52",
   "metadata": {
    "execution": {
     "iopub.execute_input": "2024-07-05T10:58:55.018947Z",
     "iopub.status.busy": "2024-07-05T10:58:55.018413Z",
     "iopub.status.idle": "2024-07-05T10:58:55.024771Z",
     "shell.execute_reply": "2024-07-05T10:58:55.023948Z"
    },
    "lines_to_next_cell": 2
   },
   "outputs": [],
   "source": [
    "toy_script = {\n",
    "    \"flow\": {\"node1\": {TRANSITIONS: {repeat(): true()}, RESPONSE: response}}\n",
    "}\n",
    "\n",
    "happy_path = (\n",
    "    (Message(), \"1-2-1-2\"),\n",
    "    (Message(), \"3-4-3-4\"),\n",
    "    (Message(), \"5-6-5-6\"),\n",
    ")\n",
    "\n",
    "pipeline = Pipeline.from_script(toy_script, start_label=(\"flow\", \"node1\"))"
   ]
  },
  {
   "cell_type": "code",
   "execution_count": 5,
   "id": "7ea19e94",
   "metadata": {
    "execution": {
     "iopub.execute_input": "2024-07-05T10:58:55.028160Z",
     "iopub.status.busy": "2024-07-05T10:58:55.027731Z",
     "iopub.status.idle": "2024-07-05T10:58:55.044939Z",
     "shell.execute_reply": "2024-07-05T10:58:55.044238Z"
    }
   },
   "outputs": [
    {
     "name": "stdout",
     "output_type": "stream",
     "text": [
      "(user) >>> \n",
      " (bot) <<< text='1-2-1-2'\n",
      "(user) >>> \n",
      " (bot) <<< text='3-4-3-4'\n",
      "(user) >>> \n",
      " (bot) <<< text='5-6-5-6'\n"
     ]
    }
   ],
   "source": [
    "if __name__ == \"__main__\":\n",
    "    check_happy_path(pipeline, happy_path)\n",
    "    if is_interactive_mode():\n",
    "        run_interactive_mode(pipeline)"
   ]
  }
 ],
 "metadata": {
  "jupytext": {
   "cell_metadata_filter": "-all",
   "main_language": "python",
   "notebook_metadata_filter": "-all",
   "text_representation": {
    "extension": ".py",
    "format_name": "percent"
   }
  },
  "language_info": {
   "codemirror_mode": {
    "name": "ipython",
    "version": 3
   },
   "file_extension": ".py",
   "mimetype": "text/x-python",
   "name": "python",
   "nbconvert_exporter": "python",
   "pygments_lexer": "ipython3",
   "version": "3.9.19"
  }
 },
 "nbformat": 4,
 "nbformat_minor": 5
}
