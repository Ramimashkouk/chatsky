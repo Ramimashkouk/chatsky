{
 "cells": [
  {
   "cell_type": "markdown",
   "id": "884ac305",
   "metadata": {
    "cell_marker": "\"\"\""
   },
   "source": [
    "# Core: 9. Pre-transitions processing\n",
    "\n",
    "This tutorial shows pre-transitions processing feature.\n",
    "\n",
    "Here, [PRE_TRANSITIONS_PROCESSING](../apiref/chatsky.script.core.keywords.rst#chatsky.script.core.keywords.Keywords.PRE_TRANSITIONS_PROCESSING)\n",
    "is demonstrated which can be used for additional context\n",
    "processing before transitioning to the next step.\n",
    "\n",
    "First of all, let's do all the necessary imports from Chatsky."
   ]
  },
  {
   "cell_type": "code",
   "execution_count": 1,
   "id": "cdc9d1d6",
   "metadata": {
    "execution": {
     "iopub.execute_input": "2024-07-05T10:58:21.723943Z",
     "iopub.status.busy": "2024-07-05T10:58:21.723588Z",
     "iopub.status.idle": "2024-07-05T10:58:23.028500Z",
     "shell.execute_reply": "2024-07-05T10:58:23.027286Z"
    }
   },
   "outputs": [
    {
     "name": "stdout",
     "output_type": "stream",
     "text": [
      "\r\n",
      "\u001b[1m[\u001b[0m\u001b[34;49mnotice\u001b[0m\u001b[1;39;49m]\u001b[0m\u001b[39;49m A new release of pip is available: \u001b[0m\u001b[31;49m24.1\u001b[0m\u001b[39;49m -> \u001b[0m\u001b[32;49m24.1.1\u001b[0m\r\n",
      "\u001b[1m[\u001b[0m\u001b[34;49mnotice\u001b[0m\u001b[1;39;49m]\u001b[0m\u001b[39;49m To update, run: \u001b[0m\u001b[32;49mpip install --upgrade pip\u001b[0m\r\n"
     ]
    },
    {
     "name": "stdout",
     "output_type": "stream",
     "text": [
      "Note: you may need to restart the kernel to use updated packages.\n"
     ]
    }
   ],
   "source": [
    "# installing dependencies\n",
    "%pip install -q chatsky"
   ]
  },
  {
   "cell_type": "code",
   "execution_count": 2,
   "id": "207bc6bd",
   "metadata": {
    "execution": {
     "iopub.execute_input": "2024-07-05T10:58:23.032667Z",
     "iopub.status.busy": "2024-07-05T10:58:23.032005Z",
     "iopub.status.idle": "2024-07-05T10:58:23.997265Z",
     "shell.execute_reply": "2024-07-05T10:58:23.996372Z"
    }
   },
   "outputs": [],
   "source": [
    "from chatsky.script import (\n",
    "    GLOBAL,\n",
    "    RESPONSE,\n",
    "    TRANSITIONS,\n",
    "    PRE_RESPONSE_PROCESSING,\n",
    "    PRE_TRANSITIONS_PROCESSING,\n",
    "    Context,\n",
    "    Message,\n",
    ")\n",
    "import chatsky.script.labels as lbl\n",
    "import chatsky.script.conditions as cnd\n",
    "from chatsky.pipeline import Pipeline\n",
    "from chatsky.utils.testing.common import (\n",
    "    check_happy_path,\n",
    "    is_interactive_mode,\n",
    "    run_interactive_mode,\n",
    ")"
   ]
  },
  {
   "cell_type": "code",
   "execution_count": 3,
   "id": "01fccd2f",
   "metadata": {
    "execution": {
     "iopub.execute_input": "2024-07-05T10:58:24.002194Z",
     "iopub.status.busy": "2024-07-05T10:58:24.001811Z",
     "iopub.status.idle": "2024-07-05T10:58:24.006738Z",
     "shell.execute_reply": "2024-07-05T10:58:24.006043Z"
    }
   },
   "outputs": [],
   "source": [
    "def save_previous_node_response(ctx: Context, _: Pipeline):\n",
    "    processed_node = ctx.current_node\n",
    "    ctx.misc[\"previous_node_response\"] = processed_node.response\n",
    "\n",
    "\n",
    "def prepend_previous_node_response(ctx: Context, _: Pipeline):\n",
    "    processed_node = ctx.current_node\n",
    "    processed_node.response = Message(\n",
    "        text=f\"previous={ctx.misc['previous_node_response'].text}:\"\n",
    "        f\" current={processed_node.response.text}\"\n",
    "    )"
   ]
  },
  {
   "cell_type": "code",
   "execution_count": 4,
   "id": "2e00cdff",
   "metadata": {
    "execution": {
     "iopub.execute_input": "2024-07-05T10:58:24.009690Z",
     "iopub.status.busy": "2024-07-05T10:58:24.009263Z",
     "iopub.status.idle": "2024-07-05T10:58:24.015207Z",
     "shell.execute_reply": "2024-07-05T10:58:24.014547Z"
    },
    "lines_to_next_cell": 2
   },
   "outputs": [],
   "source": [
    "# a dialog script\n",
    "toy_script = {\n",
    "    \"root\": {\n",
    "        \"start\": {\n",
    "            RESPONSE: Message(),\n",
    "            TRANSITIONS: {(\"flow\", \"step_0\"): cnd.true()},\n",
    "        },\n",
    "        \"fallback\": {RESPONSE: Message(\"the end\")},\n",
    "    },\n",
    "    GLOBAL: {\n",
    "        PRE_RESPONSE_PROCESSING: {\n",
    "            \"proc_name_1\": prepend_previous_node_response\n",
    "        },\n",
    "        PRE_TRANSITIONS_PROCESSING: {\n",
    "            \"proc_name_1\": save_previous_node_response\n",
    "        },\n",
    "        TRANSITIONS: {lbl.forward(0.1): cnd.true()},\n",
    "    },\n",
    "    \"flow\": {\n",
    "        \"step_0\": {RESPONSE: Message(\"first\")},\n",
    "        \"step_1\": {RESPONSE: Message(\"second\")},\n",
    "        \"step_2\": {RESPONSE: Message(\"third\")},\n",
    "        \"step_3\": {RESPONSE: Message(\"fourth\")},\n",
    "        \"step_4\": {RESPONSE: Message(\"fifth\")},\n",
    "    },\n",
    "}\n",
    "\n",
    "\n",
    "# testing\n",
    "happy_path = (\n",
    "    (\"1\", \"previous=None: current=first\"),\n",
    "    (\"2\", \"previous=first: current=second\"),\n",
    "    (\"3\", \"previous=second: current=third\"),\n",
    "    (\"4\", \"previous=third: current=fourth\"),\n",
    "    (\"5\", \"previous=fourth: current=fifth\"),\n",
    ")"
   ]
  },
  {
   "cell_type": "code",
   "execution_count": 5,
   "id": "b647945c",
   "metadata": {
    "execution": {
     "iopub.execute_input": "2024-07-05T10:58:24.018029Z",
     "iopub.status.busy": "2024-07-05T10:58:24.017772Z",
     "iopub.status.idle": "2024-07-05T10:58:24.040053Z",
     "shell.execute_reply": "2024-07-05T10:58:24.039313Z"
    }
   },
   "outputs": [
    {
     "name": "stdout",
     "output_type": "stream",
     "text": [
      "(user) >>> text='1'\n",
      " (bot) <<< text='previous=None: current=first'\n",
      "(user) >>> text='2'\n",
      " (bot) <<< text='previous=first: current=second'\n",
      "(user) >>> text='3'\n",
      " (bot) <<< text='previous=second: current=third'\n",
      "(user) >>> text='4'\n",
      " (bot) <<< text='previous=third: current=fourth'\n",
      "(user) >>> text='5'\n",
      " (bot) <<< text='previous=fourth: current=fifth'\n"
     ]
    }
   ],
   "source": [
    "pipeline = Pipeline.from_script(\n",
    "    toy_script,\n",
    "    start_label=(\"root\", \"start\"),\n",
    "    fallback_label=(\"root\", \"fallback\"),\n",
    ")\n",
    "\n",
    "if __name__ == \"__main__\":\n",
    "    check_happy_path(pipeline, happy_path)\n",
    "    if is_interactive_mode():\n",
    "        run_interactive_mode(pipeline)"
   ]
  }
 ],
 "metadata": {
  "jupytext": {
   "cell_metadata_filter": "-all",
   "main_language": "python",
   "notebook_metadata_filter": "-all",
   "text_representation": {
    "extension": ".py",
    "format_name": "percent"
   }
  },
  "language_info": {
   "codemirror_mode": {
    "name": "ipython",
    "version": 3
   },
   "file_extension": ".py",
   "mimetype": "text/x-python",
   "name": "python",
   "nbconvert_exporter": "python",
   "pygments_lexer": "ipython3",
   "version": "3.9.19"
  }
 },
 "nbformat": 4,
 "nbformat_minor": 5
}
