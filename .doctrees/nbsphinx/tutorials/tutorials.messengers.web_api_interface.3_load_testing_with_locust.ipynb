{
 "cells": [
  {
   "cell_type": "markdown",
   "id": "0667ba12",
   "metadata": {
    "cell_marker": "\"\"\""
   },
   "source": [
    "# Web API: 3. Load testing with Locust\n",
    "\n",
    "This tutorial shows how to use an API endpoint\n",
    "created in the FastAPI tutorial in load testing."
   ]
  },
  {
   "cell_type": "code",
   "execution_count": 1,
   "id": "f1fc43a6",
   "metadata": {
    "execution": {
     "iopub.execute_input": "2024-07-05T10:56:47.594051Z",
     "iopub.status.busy": "2024-07-05T10:56:47.593472Z",
     "iopub.status.idle": "2024-07-05T10:56:49.000387Z",
     "shell.execute_reply": "2024-07-05T10:56:48.999164Z"
    }
   },
   "outputs": [
    {
     "name": "stdout",
     "output_type": "stream",
     "text": [
      "\r\n",
      "\u001b[1m[\u001b[0m\u001b[34;49mnotice\u001b[0m\u001b[1;39;49m]\u001b[0m\u001b[39;49m A new release of pip is available: \u001b[0m\u001b[31;49m24.1\u001b[0m\u001b[39;49m -> \u001b[0m\u001b[32;49m24.1.1\u001b[0m\r\n",
      "\u001b[1m[\u001b[0m\u001b[34;49mnotice\u001b[0m\u001b[1;39;49m]\u001b[0m\u001b[39;49m To update, run: \u001b[0m\u001b[32;49mpip install --upgrade pip\u001b[0m\r\n"
     ]
    },
    {
     "name": "stdout",
     "output_type": "stream",
     "text": [
      "Note: you may need to restart the kernel to use updated packages.\n"
     ]
    }
   ],
   "source": [
    "# installing dependencies\n",
    "%pip install -q chatsky locust"
   ]
  },
  {
   "cell_type": "markdown",
   "id": "3e862d00",
   "metadata": {
    "cell_marker": "\"\"\"",
    "lines_to_next_cell": 2
   },
   "source": [
    "## Running Locust\n",
    "\n",
    "1. Run this file directly:\n",
    "   ```bash\n",
    "   python {file_name}\n",
    "   ```\n",
    "2. Run locust targeting this file:\n",
    "   ```bash\n",
    "   locust -f {file_name}\n",
    "   ```\n",
    "3. Run from python:\n",
    "   ```python\n",
    "   import sys\n",
    "   from locust import main\n",
    "\n",
    "   sys.argv = [\"locust\", \"-f\", {file_name}]\n",
    "   main.main()\n",
    "   ```\n",
    "\n",
    "You should see the result at http://127.0.0.1:8089.\n",
    "\n",
    "Make sure that your POST endpoint is also running (run the FastAPI tutorial)."
   ]
  },
  {
   "cell_type": "code",
   "execution_count": 2,
   "id": "17b9163a",
   "metadata": {
    "execution": {
     "iopub.execute_input": "2024-07-05T10:56:49.004987Z",
     "iopub.status.busy": "2024-07-05T10:56:49.004618Z",
     "iopub.status.idle": "2024-07-05T10:56:49.623379Z",
     "shell.execute_reply": "2024-07-05T10:56:49.615033Z"
    },
    "lines_to_next_cell": 2
   },
   "outputs": [
    {
     "data": {
      "text/plain": [
       "True"
      ]
     },
     "execution_count": 2,
     "metadata": {},
     "output_type": "execute_result"
    }
   ],
   "source": [
    "################################################################################\n",
    "# this patch is only needed to run this file in IPython kernel\n",
    "# and can be safely removed\n",
    "import gevent.monkey\n",
    "\n",
    "gevent.monkey.patch_all()\n",
    "################################################################################"
   ]
  },
  {
   "cell_type": "code",
   "execution_count": 3,
   "id": "a40cdfa2",
   "metadata": {
    "execution": {
     "iopub.execute_input": "2024-07-05T10:56:49.627111Z",
     "iopub.status.busy": "2024-07-05T10:56:49.626722Z",
     "iopub.status.idle": "2024-07-05T10:56:50.949665Z",
     "shell.execute_reply": "2024-07-05T10:56:50.904671Z"
    }
   },
   "outputs": [],
   "source": [
    "import uuid\n",
    "import time\n",
    "import sys\n",
    "\n",
    "from locust import FastHttpUser, task, constant, main\n",
    "\n",
    "from chatsky.script import Message\n",
    "from chatsky.utils.testing import HAPPY_PATH, is_interactive_mode"
   ]
  },
  {
   "cell_type": "code",
   "execution_count": 4,
   "id": "4e08f789",
   "metadata": {
    "execution": {
     "iopub.execute_input": "2024-07-05T10:56:50.955242Z",
     "iopub.status.busy": "2024-07-05T10:56:50.954543Z",
     "iopub.status.idle": "2024-07-05T10:56:51.026889Z",
     "shell.execute_reply": "2024-07-05T10:56:50.994321Z"
    }
   },
   "outputs": [],
   "source": [
    "class ChatskyUser(FastHttpUser):\n",
    "    wait_time = constant(1)\n",
    "\n",
    "    def check_happy_path(self, happy_path):\n",
    "        \"\"\"\n",
    "        Check a happy path.\n",
    "        For each `(request, response)` pair in `happy_path`:\n",
    "        1. Send request to the API endpoint and catch its response.\n",
    "        2. Compare API response with the `response`.\n",
    "           If they do not match, fail the request.\n",
    "\n",
    "        :param happy_path:\n",
    "            An iterable of tuples of\n",
    "            `(Message, Message | Callable(Message->str|None) | None)`.\n",
    "\n",
    "            If the second element is `Message`,\n",
    "            check that API response matches it.\n",
    "\n",
    "            If the second element is `None`,\n",
    "            do not check the API response.\n",
    "\n",
    "            If the second element is a `Callable`,\n",
    "            call it with the API response as its argument.\n",
    "            If the function returns a string,\n",
    "            that string is considered an error message.\n",
    "            If the function returns `None`,\n",
    "            the API response is considered correct.\n",
    "        \"\"\"\n",
    "        user_id = str(uuid.uuid4())\n",
    "\n",
    "        for request, response in happy_path:\n",
    "            with self.client.post(\n",
    "                f\"/chat?user_id={user_id}\",\n",
    "                headers={\n",
    "                    \"accept\": \"application/json\",\n",
    "                    \"Content-Type\": \"application/json\",\n",
    "                },\n",
    "                # Name is the displayed name of the request.\n",
    "                name=f\"/chat?user_message={request.json()}\",\n",
    "                data=request.json(),\n",
    "                catch_response=True,\n",
    "            ) as candidate_response:\n",
    "                text_response = Message.model_validate(\n",
    "                    candidate_response.json().get(\"response\")\n",
    "                )\n",
    "\n",
    "                if response is not None:\n",
    "                    if callable(response):\n",
    "                        error_message = response(text_response)\n",
    "                        if error_message is not None:\n",
    "                            candidate_response.failure(error_message)\n",
    "                    elif text_response != response:\n",
    "                        candidate_response.failure(\n",
    "                            f\"Expected: {response.model_dump_json()}\\n\"\n",
    "                            f\"Got: {text_response.model_dump_json()}\"\n",
    "                        )\n",
    "\n",
    "            time.sleep(self.wait_time())\n",
    "\n",
    "    @task(3)  # <- this task is 3 times more likely than the other\n",
    "    def dialog_1(self):\n",
    "        self.check_happy_path(HAPPY_PATH)\n",
    "\n",
    "    @task\n",
    "    def dialog_2(self):\n",
    "        def check_first_message(msg: Message) -> str | None:\n",
    "            if msg.text is None:\n",
    "                return f\"Message does not contain text: {msg.model_dump_json()}\"\n",
    "            if \"Hi\" not in msg.text:\n",
    "                return (\n",
    "                    f'\"Hi\" is not in the response message: '\n",
    "                    f\"{msg.model_dump_json()}\"\n",
    "                )\n",
    "            return None\n",
    "\n",
    "        self.check_happy_path(\n",
    "            [\n",
    "                # a function can be used to check the return message\n",
    "                (Message(\"Hi\"), check_first_message),\n",
    "                # a None is used if return message should not be checked\n",
    "                (Message(\"i'm fine, how are you?\"), None),\n",
    "                # this should fail\n",
    "                (Message(\"Hi\"), check_first_message),\n",
    "            ]\n",
    "        )"
   ]
  },
  {
   "cell_type": "code",
   "execution_count": 5,
   "id": "e93583dc",
   "metadata": {
    "execution": {
     "iopub.execute_input": "2024-07-05T10:56:51.030971Z",
     "iopub.status.busy": "2024-07-05T10:56:51.030631Z",
     "iopub.status.idle": "2024-07-05T10:56:51.080267Z",
     "shell.execute_reply": "2024-07-05T10:56:51.050669Z"
    }
   },
   "outputs": [],
   "source": [
    "if __name__ == \"__main__\":\n",
    "    if is_interactive_mode():\n",
    "        sys.argv = [\"locust\", \"-f\", __file__]\n",
    "        main.main()"
   ]
  }
 ],
 "metadata": {
  "jupytext": {
   "cell_metadata_filter": "-all",
   "main_language": "python",
   "notebook_metadata_filter": "-all",
   "text_representation": {
    "extension": ".py",
    "format_name": "percent"
   }
  },
  "language_info": {
   "codemirror_mode": {
    "name": "ipython",
    "version": 3
   },
   "file_extension": ".py",
   "mimetype": "text/x-python",
   "name": "python",
   "nbconvert_exporter": "python",
   "pygments_lexer": "ipython3",
   "version": "3.9.19"
  }
 },
 "nbformat": 4,
 "nbformat_minor": 5
}
