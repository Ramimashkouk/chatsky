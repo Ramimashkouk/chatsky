{
 "cells": [
  {
   "cell_type": "markdown",
   "id": "4231d16b",
   "metadata": {
    "cell_marker": "\"\"\""
   },
   "source": [
    "# Telegram: 1. Basic\n",
    "\n",
    "The following tutorial shows how to run a regular Chatsky script in Telegram.\n",
    "It asks users for the '/start' command and then loops in one place.\n",
    "\n",
    "Here, [LongpollingInterface](../apiref/chatsky.messengers.telegram.interface.rst#chatsky.messengers.telegram.interface.LongpollingInterface)\n",
    "class and [python-telegram-bot](https://docs.python-telegram-bot.org/)\n",
    "library are used for accessing telegram API in polling mode.\n",
    "\n",
    "Telegram API token is required to access telegram API."
   ]
  },
  {
   "cell_type": "code",
   "execution_count": 1,
   "id": "fe4370da",
   "metadata": {
    "execution": {
     "iopub.execute_input": "2024-07-05T10:56:23.621481Z",
     "iopub.status.busy": "2024-07-05T10:56:23.621208Z",
     "iopub.status.idle": "2024-07-05T10:56:25.066289Z",
     "shell.execute_reply": "2024-07-05T10:56:25.064811Z"
    }
   },
   "outputs": [
    {
     "name": "stdout",
     "output_type": "stream",
     "text": [
      "\r\n",
      "\u001b[1m[\u001b[0m\u001b[34;49mnotice\u001b[0m\u001b[1;39;49m]\u001b[0m\u001b[39;49m A new release of pip is available: \u001b[0m\u001b[31;49m24.1\u001b[0m\u001b[39;49m -> \u001b[0m\u001b[32;49m24.1.1\u001b[0m\r\n",
      "\u001b[1m[\u001b[0m\u001b[34;49mnotice\u001b[0m\u001b[1;39;49m]\u001b[0m\u001b[39;49m To update, run: \u001b[0m\u001b[32;49mpip install --upgrade pip\u001b[0m\r\n"
     ]
    },
    {
     "name": "stdout",
     "output_type": "stream",
     "text": [
      "Note: you may need to restart the kernel to use updated packages.\n"
     ]
    }
   ],
   "source": [
    "# installing dependencies\n",
    "%pip install -q chatsky[telegram]"
   ]
  },
  {
   "cell_type": "code",
   "execution_count": 2,
   "id": "0ea8b2c9",
   "metadata": {
    "execution": {
     "iopub.execute_input": "2024-07-05T10:56:25.070530Z",
     "iopub.status.busy": "2024-07-05T10:56:25.070153Z",
     "iopub.status.idle": "2024-07-05T10:56:26.384057Z",
     "shell.execute_reply": "2024-07-05T10:56:26.383131Z"
    },
    "lines_to_next_cell": 2
   },
   "outputs": [],
   "source": [
    "import os\n",
    "\n",
    "from chatsky.script import conditions as cnd\n",
    "from chatsky.script import labels as lbl\n",
    "from chatsky.script import RESPONSE, TRANSITIONS, Message\n",
    "from chatsky.messengers.telegram import LongpollingInterface\n",
    "from chatsky.pipeline import Pipeline\n",
    "from chatsky.utils.testing.common import is_interactive_mode"
   ]
  },
  {
   "cell_type": "markdown",
   "id": "ae9e96af",
   "metadata": {
    "cell_marker": "\"\"\"",
    "lines_to_next_cell": 2
   },
   "source": [
    "In order to integrate your script with Telegram, you need an instance of the\n",
    "[_AbstractTelegramInterface](../apiref/chatsky.messengers.telegram.abstract.rst#chatsky.messengers.telegram.abstract._AbstractTelegramInterface) class.\n",
    "Two of its child subclasses that can be instantiated\n",
    "are [LongpollingInterface](../apiref/chatsky.messengers.telegram.interface.rst#chatsky.messengers.telegram.interface.LongpollingInterface) and\n",
    "[WebhookInterface](../apiref/chatsky.messengers.telegram.interface.rst#chatsky.messengers.telegram.interface.WebhookInterface).\n",
    "The latter requires a webserver, so here we use long polling interface.\n",
    "\n",
    "[_AbstractTelegramInterface](../apiref/chatsky.messengers.telegram.abstract.rst#chatsky.messengers.telegram.abstract._AbstractTelegramInterface)\n",
    "encapsulates the bot logic. The only required\n",
    "argument for a bot to run is a token. Some other parameters\n",
    "(such as host, port, interval, etc.) can be passed as keyword arguments\n",
    "(for their specs see [documentations of the child subclasses](\n",
    "../apiref/chatsky.messengers.telegram.interface.rst\n",
    ").\n",
    "\n",
    "Either of the two interfaces connect the bot to Telegram.\n",
    "They can be passed directly to a Chatsky `Pipeline` instance."
   ]
  },
  {
   "cell_type": "code",
   "execution_count": 3,
   "id": "11c12a29",
   "metadata": {
    "execution": {
     "iopub.execute_input": "2024-07-05T10:56:26.389480Z",
     "iopub.status.busy": "2024-07-05T10:56:26.388221Z",
     "iopub.status.idle": "2024-07-05T10:56:26.393922Z",
     "shell.execute_reply": "2024-07-05T10:56:26.393256Z"
    },
    "lines_to_next_cell": 2
   },
   "outputs": [],
   "source": [
    "script = {\n",
    "    \"greeting_flow\": {\n",
    "        \"start_node\": {\n",
    "            TRANSITIONS: {\"greeting_node\": cnd.exact_match(\"/start\")},\n",
    "        },\n",
    "        \"greeting_node\": {\n",
    "            RESPONSE: Message(\"Hi\"),\n",
    "            TRANSITIONS: {lbl.repeat(): cnd.true()},\n",
    "        },\n",
    "        \"fallback_node\": {\n",
    "            RESPONSE: Message(\"Please, repeat the request\"),\n",
    "            TRANSITIONS: {\"greeting_node\": cnd.exact_match(\"/start\")},\n",
    "        },\n",
    "    }\n",
    "}"
   ]
  },
  {
   "cell_type": "code",
   "execution_count": 4,
   "id": "451ad684",
   "metadata": {
    "execution": {
     "iopub.execute_input": "2024-07-05T10:56:26.397359Z",
     "iopub.status.busy": "2024-07-05T10:56:26.396773Z",
     "iopub.status.idle": "2024-07-05T10:56:26.488721Z",
     "shell.execute_reply": "2024-07-05T10:56:26.487534Z"
    },
    "lines_to_next_cell": 2
   },
   "outputs": [],
   "source": [
    "interface = LongpollingInterface(token=os.environ[\"TG_BOT_TOKEN\"])"
   ]
  },
  {
   "cell_type": "code",
   "execution_count": 5,
   "id": "18ac359c",
   "metadata": {
    "execution": {
     "iopub.execute_input": "2024-07-05T10:56:26.493227Z",
     "iopub.status.busy": "2024-07-05T10:56:26.492658Z",
     "iopub.status.idle": "2024-07-05T10:56:26.498661Z",
     "shell.execute_reply": "2024-07-05T10:56:26.497925Z"
    }
   },
   "outputs": [],
   "source": [
    "pipeline = Pipeline.from_script(\n",
    "    script=script,\n",
    "    start_label=(\"greeting_flow\", \"start_node\"),\n",
    "    fallback_label=(\"greeting_flow\", \"fallback_node\"),\n",
    "    messenger_interface=interface,\n",
    "    # The interface can be passed as a pipeline argument.\n",
    ")\n",
    "\n",
    "\n",
    "if __name__ == \"__main__\":\n",
    "    if is_interactive_mode():\n",
    "        # prevent run during doc building\n",
    "        pipeline.run()"
   ]
  }
 ],
 "metadata": {
  "jupytext": {
   "cell_metadata_filter": "-all",
   "main_language": "python",
   "notebook_metadata_filter": "-all",
   "text_representation": {
    "extension": ".py",
    "format_name": "percent"
   }
  },
  "language_info": {
   "codemirror_mode": {
    "name": "ipython",
    "version": 3
   },
   "file_extension": ".py",
   "mimetype": "text/x-python",
   "name": "python",
   "nbconvert_exporter": "python",
   "pygments_lexer": "ipython3",
   "version": "3.9.19"
  }
 },
 "nbformat": 4,
 "nbformat_minor": 5
}
