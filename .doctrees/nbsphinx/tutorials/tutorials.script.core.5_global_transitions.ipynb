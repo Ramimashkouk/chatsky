{
 "cells": [
  {
   "cell_type": "markdown",
   "id": "3f5c6361",
   "metadata": {
    "cell_marker": "\"\"\"",
    "lines_to_next_cell": 2
   },
   "source": [
    "# Core: 5. Global transitions\n",
    "\n",
    "This tutorial shows the global setting of transitions.\n",
    "\n",
    "Here, global [conditions](../apiref/chatsky.script.conditions.std_conditions.rst)\n",
    "for default transition between many different script steps are shown.\n",
    "\n",
    "First of all, let's do all the necessary imports from Chatsky."
   ]
  },
  {
   "cell_type": "code",
   "execution_count": 1,
   "id": "5632e288",
   "metadata": {
    "execution": {
     "iopub.execute_input": "2024-07-05T10:58:05.038195Z",
     "iopub.status.busy": "2024-07-05T10:58:05.037894Z",
     "iopub.status.idle": "2024-07-05T10:58:06.326405Z",
     "shell.execute_reply": "2024-07-05T10:58:06.325279Z"
    }
   },
   "outputs": [
    {
     "name": "stdout",
     "output_type": "stream",
     "text": [
      "\r\n",
      "\u001b[1m[\u001b[0m\u001b[34;49mnotice\u001b[0m\u001b[1;39;49m]\u001b[0m\u001b[39;49m A new release of pip is available: \u001b[0m\u001b[31;49m24.1\u001b[0m\u001b[39;49m -> \u001b[0m\u001b[32;49m24.1.1\u001b[0m\r\n",
      "\u001b[1m[\u001b[0m\u001b[34;49mnotice\u001b[0m\u001b[1;39;49m]\u001b[0m\u001b[39;49m To update, run: \u001b[0m\u001b[32;49mpip install --upgrade pip\u001b[0m\r\n"
     ]
    },
    {
     "name": "stdout",
     "output_type": "stream",
     "text": [
      "Note: you may need to restart the kernel to use updated packages.\n"
     ]
    }
   ],
   "source": [
    "# installing dependencies\n",
    "%pip install -q chatsky"
   ]
  },
  {
   "cell_type": "code",
   "execution_count": 2,
   "id": "921c90fc",
   "metadata": {
    "execution": {
     "iopub.execute_input": "2024-07-05T10:58:06.330263Z",
     "iopub.status.busy": "2024-07-05T10:58:06.329909Z",
     "iopub.status.idle": "2024-07-05T10:58:07.173738Z",
     "shell.execute_reply": "2024-07-05T10:58:07.172904Z"
    }
   },
   "outputs": [],
   "source": [
    "import re\n",
    "\n",
    "from chatsky.script import GLOBAL, TRANSITIONS, RESPONSE, Message\n",
    "import chatsky.script.conditions as cnd\n",
    "import chatsky.script.labels as lbl\n",
    "from chatsky.pipeline import Pipeline\n",
    "from chatsky.utils.testing.common import (\n",
    "    check_happy_path,\n",
    "    is_interactive_mode,\n",
    "    run_interactive_mode,\n",
    ")"
   ]
  },
  {
   "cell_type": "markdown",
   "id": "c8914af9",
   "metadata": {
    "cell_marker": "\"\"\""
   },
   "source": [
    "The keyword `GLOBAL` is used to define a global node.\n",
    "There can be only one global node in a script.\n",
    "The value that corresponds to this key has the\n",
    "`dict` type with the same keywords as regular nodes.\n",
    "The global node is defined above the flow level as opposed to regular nodes.\n",
    "This node allows to define default global values for all nodes.\n",
    "\n",
    "There are `GLOBAL` node and three flows:\n",
    "`global_flow`, `greeting_flow`, `music_flow`."
   ]
  },
  {
   "cell_type": "code",
   "execution_count": 3,
   "id": "dac9e972",
   "metadata": {
    "execution": {
     "iopub.execute_input": "2024-07-05T10:58:07.178579Z",
     "iopub.status.busy": "2024-07-05T10:58:07.177936Z",
     "iopub.status.idle": "2024-07-05T10:58:07.193225Z",
     "shell.execute_reply": "2024-07-05T10:58:07.192442Z"
    }
   },
   "outputs": [],
   "source": [
    "toy_script = {\n",
    "    GLOBAL: {\n",
    "        TRANSITIONS: {\n",
    "            (\"greeting_flow\", \"node1\", 1.1): cnd.regexp(\n",
    "                r\"\\b(hi|hello)\\b\", re.I\n",
    "            ),  # first check\n",
    "            (\"music_flow\", \"node1\", 1.1): cnd.regexp(\n",
    "                r\"talk about music\"\n",
    "            ),  # second check\n",
    "            lbl.to_fallback(0.1): cnd.true(),  # fifth check\n",
    "            lbl.forward(): cnd.all(\n",
    "                [\n",
    "                    cnd.regexp(r\"next\\b\"),\n",
    "                    cnd.has_last_labels(\n",
    "                        labels=[(\"music_flow\", i) for i in [\"node2\", \"node3\"]]\n",
    "                    ),\n",
    "                ]  # third check\n",
    "            ),\n",
    "            lbl.repeat(0.2): cnd.all(\n",
    "                [\n",
    "                    cnd.regexp(r\"repeat\", re.I),\n",
    "                    cnd.negation(\n",
    "                        cnd.has_last_labels(flow_labels=[\"global_flow\"])\n",
    "                    ),\n",
    "                ]  # fourth check\n",
    "            ),\n",
    "        }\n",
    "    },\n",
    "    \"global_flow\": {\n",
    "        \"start_node\": {\n",
    "            RESPONSE: Message()\n",
    "        },  # This is an initial node, it doesn't need a `RESPONSE`.\n",
    "        \"fallback_node\": {  # We get to this node\n",
    "            # if an error occurred while the agent was running.\n",
    "            RESPONSE: Message(\"Ooops\"),\n",
    "            TRANSITIONS: {lbl.previous(): cnd.regexp(r\"previous\", re.I)},\n",
    "            # lbl.previous() is equivalent to\n",
    "            # (\"previous_flow\", \"previous_node\", 1.0)\n",
    "        },\n",
    "    },\n",
    "    \"greeting_flow\": {\n",
    "        \"node1\": {\n",
    "            RESPONSE: Message(\"Hi, how are you?\"),\n",
    "            TRANSITIONS: {\"node2\": cnd.regexp(r\"how are you\")},\n",
    "            # \"node2\" is equivalent to (\"greeting_flow\", \"node2\", 1.0)\n",
    "        },\n",
    "        \"node2\": {\n",
    "            RESPONSE: Message(\"Good. What do you want to talk about?\"),\n",
    "            TRANSITIONS: {\n",
    "                lbl.forward(0.5): cnd.regexp(r\"talk about\"),\n",
    "                # lbl.forward(0.5) is equivalent to\n",
    "                # (\"greeting_flow\", \"node3\", 0.5)\n",
    "                lbl.previous(): cnd.regexp(r\"previous\", re.I),\n",
    "            },\n",
    "        },\n",
    "        \"node3\": {\n",
    "            RESPONSE: Message(\"Sorry, I can not talk about that now.\"),\n",
    "            TRANSITIONS: {lbl.forward(): cnd.regexp(r\"bye\")},\n",
    "        },\n",
    "        \"node4\": {RESPONSE: Message(\"bye\")},\n",
    "        # Only the global transitions setting are used in this node.\n",
    "    },\n",
    "    \"music_flow\": {\n",
    "        \"node1\": {\n",
    "            RESPONSE: Message(\n",
    "                text=\"I love `System of a Down` group, \"\n",
    "                \"would you like to talk about it?\"\n",
    "            ),\n",
    "            TRANSITIONS: {lbl.forward(): cnd.regexp(r\"yes|yep|ok\", re.I)},\n",
    "        },\n",
    "        \"node2\": {\n",
    "            RESPONSE: Message(\n",
    "                text=\"System of a Down is \"\n",
    "                \"an Armenian-American heavy metal band formed in 1994.\"\n",
    "            )\n",
    "            # Only the global transitions setting are used in this node.\n",
    "        },\n",
    "        \"node3\": {\n",
    "            RESPONSE: Message(\n",
    "                text=\"The band achieved commercial success \"\n",
    "                \"with the release of five studio albums.\"\n",
    "            ),\n",
    "            TRANSITIONS: {lbl.backward(): cnd.regexp(r\"back\", re.I)},\n",
    "        },\n",
    "        \"node4\": {\n",
    "            RESPONSE: Message(\"That's all what I know.\"),\n",
    "            TRANSITIONS: {\n",
    "                (\"greeting_flow\", \"node4\"): cnd.regexp(r\"next time\", re.I),\n",
    "                (\"greeting_flow\", \"node2\"): cnd.regexp(r\"next\", re.I),\n",
    "            },\n",
    "        },\n",
    "    },\n",
    "}\n",
    "\n",
    "# testing\n",
    "happy_path = (\n",
    "    (\"hi\", \"Hi, how are you?\"),\n",
    "    (\n",
    "        \"i'm fine, how are you?\",\n",
    "        \"Good. What do you want to talk about?\",\n",
    "    ),\n",
    "    (\n",
    "        \"talk about music.\",\n",
    "        \"I love `System of a Down` group, \" \"would you like to talk about it?\",\n",
    "    ),\n",
    "    (\n",
    "        \"yes\",\n",
    "        \"System of a Down is \"\n",
    "        \"an Armenian-American heavy metal band formed in 1994.\",\n",
    "    ),\n",
    "    (\n",
    "        \"next\",\n",
    "        \"The band achieved commercial success \"\n",
    "        \"with the release of five studio albums.\",\n",
    "    ),\n",
    "    (\n",
    "        \"back\",\n",
    "        \"System of a Down is \"\n",
    "        \"an Armenian-American heavy metal band formed in 1994.\",\n",
    "    ),\n",
    "    (\n",
    "        \"repeat\",\n",
    "        \"System of a Down is \"\n",
    "        \"an Armenian-American heavy metal band formed in 1994.\",\n",
    "    ),\n",
    "    (\n",
    "        \"next\",\n",
    "        \"The band achieved commercial success \"\n",
    "        \"with the release of five studio albums.\",\n",
    "    ),\n",
    "    (\"next\", \"That's all what I know.\"),\n",
    "    (\n",
    "        \"next\",\n",
    "        \"Good. What do you want to talk about?\",\n",
    "    ),\n",
    "    (\"previous\", \"That's all what I know.\"),\n",
    "    (\"next time\", \"bye\"),\n",
    "    (\"stop\", \"Ooops\"),\n",
    "    (\"previous\", \"bye\"),\n",
    "    (\"stop\", \"Ooops\"),\n",
    "    (\"nope\", \"Ooops\"),\n",
    "    (\"hi\", \"Hi, how are you?\"),\n",
    "    (\"stop\", \"Ooops\"),\n",
    "    (\"previous\", \"Hi, how are you?\"),\n",
    "    (\n",
    "        \"i'm fine, how are you?\",\n",
    "        \"Good. What do you want to talk about?\",\n",
    "    ),\n",
    "    (\n",
    "        \"let's talk about something.\",\n",
    "        \"Sorry, I can not talk about that now.\",\n",
    "    ),\n",
    "    (\"Ok, goodbye.\", \"bye\"),\n",
    ")"
   ]
  },
  {
   "cell_type": "code",
   "execution_count": 4,
   "id": "6c38fa58",
   "metadata": {
    "execution": {
     "iopub.execute_input": "2024-07-05T10:58:07.196272Z",
     "iopub.status.busy": "2024-07-05T10:58:07.195846Z",
     "iopub.status.idle": "2024-07-05T10:58:07.240565Z",
     "shell.execute_reply": "2024-07-05T10:58:07.239824Z"
    }
   },
   "outputs": [
    {
     "name": "stdout",
     "output_type": "stream",
     "text": [
      "(user) >>> text='hi'\n",
      " (bot) <<< text='Hi, how are you?'\n",
      "(user) >>> text='i'm fine, how are you?'\n",
      " (bot) <<< text='Good. What do you want to talk about?'\n",
      "(user) >>> text='talk about music.'\n",
      " (bot) <<< text='I love `System of a Down` group, would you like to talk about it?'\n",
      "(user) >>> text='yes'\n",
      " (bot) <<< text='System of a Down is an Armenian-American heavy metal band formed in 1994.'\n",
      "(user) >>> text='next'\n",
      " (bot) <<< text='The band achieved commercial success with the release of five studio albums.'\n",
      "(user) >>> text='back'\n",
      " (bot) <<< text='System of a Down is an Armenian-American heavy metal band formed in 1994.'\n",
      "(user) >>> text='repeat'\n",
      " (bot) <<< text='System of a Down is an Armenian-American heavy metal band formed in 1994.'\n",
      "(user) >>> text='next'\n",
      " (bot) <<< text='The band achieved commercial success with the release of five studio albums.'\n",
      "(user) >>> text='next'\n",
      " (bot) <<< text='That's all what I know.'\n",
      "(user) >>> text='next'\n",
      " (bot) <<< text='Good. What do you want to talk about?'\n",
      "(user) >>> text='previous'\n",
      " (bot) <<< text='That's all what I know.'\n",
      "(user) >>> text='next time'\n",
      " (bot) <<< text='bye'\n",
      "(user) >>> text='stop'\n",
      " (bot) <<< text='Ooops'\n",
      "(user) >>> text='previous'\n",
      " (bot) <<< text='bye'\n",
      "(user) >>> text='stop'\n",
      " (bot) <<< text='Ooops'\n",
      "(user) >>> text='nope'\n",
      " (bot) <<< text='Ooops'\n",
      "(user) >>> text='hi'\n",
      " (bot) <<< text='Hi, how are you?'\n",
      "(user) >>> text='stop'\n",
      " (bot) <<< text='Ooops'\n",
      "(user) >>> text='previous'\n",
      " (bot) <<< text='Hi, how are you?'\n",
      "(user) >>> text='i'm fine, how are you?'\n",
      " (bot) <<< text='Good. What do you want to talk about?'\n",
      "(user) >>> text='let's talk about something.'\n",
      " (bot) <<< text='Sorry, I can not talk about that now.'\n",
      "(user) >>> text='Ok, goodbye.'\n",
      " (bot) <<< text='bye'\n"
     ]
    }
   ],
   "source": [
    "pipeline = Pipeline.from_script(\n",
    "    toy_script,\n",
    "    start_label=(\"global_flow\", \"start_node\"),\n",
    "    fallback_label=(\"global_flow\", \"fallback_node\"),\n",
    ")\n",
    "\n",
    "if __name__ == \"__main__\":\n",
    "    check_happy_path(pipeline, happy_path)\n",
    "    if is_interactive_mode():\n",
    "        run_interactive_mode(pipeline)"
   ]
  }
 ],
 "metadata": {
  "jupytext": {
   "cell_metadata_filter": "-all",
   "main_language": "python",
   "notebook_metadata_filter": "-all",
   "text_representation": {
    "extension": ".py",
    "format_name": "percent"
   }
  },
  "language_info": {
   "codemirror_mode": {
    "name": "ipython",
    "version": 3
   },
   "file_extension": ".py",
   "mimetype": "text/x-python",
   "name": "python",
   "nbconvert_exporter": "python",
   "pygments_lexer": "ipython3",
   "version": "3.9.19"
  }
 },
 "nbformat": 4,
 "nbformat_minor": 5
}
