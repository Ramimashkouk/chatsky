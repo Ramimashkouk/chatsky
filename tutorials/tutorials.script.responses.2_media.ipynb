{
 "cells": [
  {
   "cell_type": "markdown",
   "id": "db318fbe",
   "metadata": {
    "cell_marker": "\"\"\""
   },
   "source": [
    "# Responses: 2. Media\n",
    "\n",
    "Here, [Attachment](../apiref/chatsky.script.core.message.rst#chatsky.script.core.message.Attachment) class is shown.\n",
    "Attachments can be used for attaching different media elements\n",
    "(such as [Image](../apiref/chatsky.script.core.message.rst#chatsky.script.core.message.Image),\n",
    "[Document](../apiref/chatsky.script.core.message.rst#chatsky.script.core.message.Document)\n",
    "or [Audio](../apiref/chatsky.script.core.message.rst#chatsky.script.core.message.Audio)).\n",
    "\n",
    "They can be attached to any message but will only work if the chosen\n",
    "[messenger interface](../apiref/index_messenger_interfaces.rst) supports them."
   ]
  },
  {
   "cell_type": "code",
   "execution_count": 1,
   "id": "248a55c7",
   "metadata": {
    "execution": {
     "iopub.execute_input": "2024-07-05T10:58:30.084109Z",
     "iopub.status.busy": "2024-07-05T10:58:30.083160Z",
     "iopub.status.idle": "2024-07-05T10:58:31.638045Z",
     "shell.execute_reply": "2024-07-05T10:58:31.637043Z"
    }
   },
   "outputs": [
    {
     "name": "stdout",
     "output_type": "stream",
     "text": [
      "\r\n",
      "\u001b[1m[\u001b[0m\u001b[34;49mnotice\u001b[0m\u001b[1;39;49m]\u001b[0m\u001b[39;49m A new release of pip is available: \u001b[0m\u001b[31;49m24.1\u001b[0m\u001b[39;49m -> \u001b[0m\u001b[32;49m24.1.1\u001b[0m\r\n",
      "\u001b[1m[\u001b[0m\u001b[34;49mnotice\u001b[0m\u001b[1;39;49m]\u001b[0m\u001b[39;49m To update, run: \u001b[0m\u001b[32;49mpip install --upgrade pip\u001b[0m\r\n"
     ]
    },
    {
     "name": "stdout",
     "output_type": "stream",
     "text": [
      "Note: you may need to restart the kernel to use updated packages.\n"
     ]
    }
   ],
   "source": [
    "# installing dependencies\n",
    "%pip install -q chatsky"
   ]
  },
  {
   "cell_type": "code",
   "execution_count": 2,
   "id": "7972ded6",
   "metadata": {
    "execution": {
     "iopub.execute_input": "2024-07-05T10:58:31.642133Z",
     "iopub.status.busy": "2024-07-05T10:58:31.641482Z",
     "iopub.status.idle": "2024-07-05T10:58:32.578707Z",
     "shell.execute_reply": "2024-07-05T10:58:32.577846Z"
    },
    "lines_to_next_cell": 2
   },
   "outputs": [],
   "source": [
    "from chatsky.script import RESPONSE, TRANSITIONS\n",
    "from chatsky.script.conditions import std_conditions as cnd\n",
    "\n",
    "from chatsky.script.core.message import Image, Message\n",
    "\n",
    "from chatsky.pipeline import Pipeline\n",
    "from chatsky.utils.testing import (\n",
    "    check_happy_path,\n",
    "    is_interactive_mode,\n",
    "    run_interactive_mode,\n",
    ")"
   ]
  },
  {
   "cell_type": "code",
   "execution_count": 3,
   "id": "1f54be03",
   "metadata": {
    "execution": {
     "iopub.execute_input": "2024-07-05T10:58:32.583714Z",
     "iopub.status.busy": "2024-07-05T10:58:32.583207Z",
     "iopub.status.idle": "2024-07-05T10:58:32.595888Z",
     "shell.execute_reply": "2024-07-05T10:58:32.595045Z"
    },
    "lines_to_next_cell": 2
   },
   "outputs": [],
   "source": [
    "img_url = \"https://www.python.org/static/img/python-logo.png\"\n",
    "toy_script = {\n",
    "    \"root\": {\n",
    "        \"start\": {\n",
    "            RESPONSE: Message(\"\"),\n",
    "            TRANSITIONS: {(\"pics\", \"ask_picture\"): cnd.true()},\n",
    "        },\n",
    "        \"fallback\": {\n",
    "            RESPONSE: Message(\n",
    "                text=\"Final node reached, send any message to restart.\"\n",
    "            ),\n",
    "            TRANSITIONS: {(\"pics\", \"ask_picture\"): cnd.true()},\n",
    "        },\n",
    "    },\n",
    "    \"pics\": {\n",
    "        \"ask_picture\": {\n",
    "            RESPONSE: Message(\"Please, send me a picture url\"),\n",
    "            TRANSITIONS: {\n",
    "                (\"pics\", \"send_one\", 1.1): cnd.regexp(r\"^http.+\\.png$\"),\n",
    "                (\"pics\", \"send_many\", 1.0): cnd.regexp(\n",
    "                    f\"{img_url} repeat 10 times\"\n",
    "                ),\n",
    "                (\"pics\", \"repeat\", 0.9): cnd.true(),\n",
    "            },\n",
    "        },\n",
    "        \"send_one\": {\n",
    "            RESPONSE: Message(\n",
    "                text=\"here's my picture!\",\n",
    "                attachments=[Image(source=img_url)],\n",
    "            ),\n",
    "            TRANSITIONS: {(\"root\", \"fallback\"): cnd.true()},\n",
    "        },\n",
    "        \"send_many\": {\n",
    "            RESPONSE: Message(\n",
    "                text=\"Look at my pictures\",\n",
    "                attachments=[Image(source=img_url)],\n",
    "            ),\n",
    "            TRANSITIONS: {(\"root\", \"fallback\"): cnd.true()},\n",
    "        },\n",
    "        \"repeat\": {\n",
    "            RESPONSE: Message(\n",
    "                text=\"I cannot find the picture. Please, try again.\"\n",
    "            ),\n",
    "            TRANSITIONS: {\n",
    "                (\"pics\", \"send_one\", 1.1): cnd.regexp(r\"^http.+\\.png$\"),\n",
    "                (\"pics\", \"send_many\", 1.0): cnd.regexp(\n",
    "                    r\"^http.+\\.png repeat 10 times\"\n",
    "                ),\n",
    "                (\"pics\", \"repeat\", 0.9): cnd.true(),\n",
    "            },\n",
    "        },\n",
    "    },\n",
    "}\n",
    "\n",
    "happy_path = (\n",
    "    (Message(\"Hi\"), Message(\"Please, send me a picture url\")),\n",
    "    (\n",
    "        Message(\"no\"),\n",
    "        Message(\"I cannot find the picture. Please, try again.\"),\n",
    "    ),\n",
    "    (\n",
    "        Message(img_url),\n",
    "        Message(\n",
    "            text=\"here's my picture!\",\n",
    "            attachments=[Image(source=img_url)],\n",
    "        ),\n",
    "    ),\n",
    "    (\n",
    "        Message(\"ok\"),\n",
    "        Message(\"Final node reached, send any message to restart.\"),\n",
    "    ),\n",
    "    (Message(\"ok\"), Message(\"Please, send me a picture url\")),\n",
    "    (\n",
    "        Message(f\"{img_url} repeat 10 times\"),\n",
    "        Message(\n",
    "            text=\"Look at my pictures\",\n",
    "            attachments=[Image(source=img_url)],\n",
    "        ),\n",
    "    ),\n",
    "    (\n",
    "        Message(\"ok\"),\n",
    "        Message(\"Final node reached, send any message to restart.\"),\n",
    "    ),\n",
    ")"
   ]
  },
  {
   "cell_type": "code",
   "execution_count": 4,
   "id": "938bf97f",
   "metadata": {
    "execution": {
     "iopub.execute_input": "2024-07-05T10:58:32.599453Z",
     "iopub.status.busy": "2024-07-05T10:58:32.598834Z",
     "iopub.status.idle": "2024-07-05T10:58:32.622777Z",
     "shell.execute_reply": "2024-07-05T10:58:32.622002Z"
    }
   },
   "outputs": [
    {
     "name": "stdout",
     "output_type": "stream",
     "text": [
      "(user) >>> text='Hi'\n",
      " (bot) <<< text='Please, send me a picture url'\n",
      "(user) >>> text='no'\n",
      " (bot) <<< text='I cannot find the picture. Please, try again.'\n",
      "(user) >>> text='https://www.python.org/static/img/python-logo.png'\n",
      " (bot) <<< text='here's my picture!' attachments='[{'chatsky_attachment_type': 'image', 'source': Url('https://www.python.org/static/img/python-logo.png'), 'use_cache': True}]'\n",
      "(user) >>> text='ok'\n",
      " (bot) <<< text='Final node reached, send any message to restart.'\n",
      "(user) >>> text='ok'\n",
      " (bot) <<< text='Please, send me a picture url'\n",
      "(user) >>> text='https://www.python.org/static/img/python-logo.png repeat 10 times'\n",
      " (bot) <<< text='Look at my pictures' attachments='[{'chatsky_attachment_type': 'image', 'source': Url('https://www.python.org/static/img/python-logo.png'), 'use_cache': True}]'\n",
      "(user) >>> text='ok'\n",
      " (bot) <<< text='Final node reached, send any message to restart.'\n"
     ]
    }
   ],
   "source": [
    "pipeline = Pipeline.from_script(\n",
    "    toy_script,\n",
    "    start_label=(\"root\", \"start\"),\n",
    "    fallback_label=(\"root\", \"fallback\"),\n",
    ")\n",
    "\n",
    "if __name__ == \"__main__\":\n",
    "    check_happy_path(pipeline, happy_path)\n",
    "    if is_interactive_mode():\n",
    "        run_interactive_mode(pipeline)"
   ]
  }
 ],
 "metadata": {
  "jupytext": {
   "cell_metadata_filter": "-all",
   "main_language": "python",
   "notebook_metadata_filter": "-all",
   "text_representation": {
    "extension": ".py",
    "format_name": "percent"
   }
  },
  "language_info": {
   "codemirror_mode": {
    "name": "ipython",
    "version": 3
   },
   "file_extension": ".py",
   "mimetype": "text/x-python",
   "name": "python",
   "nbconvert_exporter": "python",
   "pygments_lexer": "ipython3",
   "version": "3.9.19"
  }
 },
 "nbformat": 4,
 "nbformat_minor": 5
}
