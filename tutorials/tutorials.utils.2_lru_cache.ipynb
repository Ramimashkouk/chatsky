{
 "cells": [
  {
   "cell_type": "markdown",
   "id": "558eaeda",
   "metadata": {
    "cell_marker": "\"\"\""
   },
   "source": [
    "# 2. LRU Cache\n",
    "\n",
    "In this tutorial use of\n",
    "[lru_cache](../apiref/chatsky.utils.turn_caching.singleton_turn_caching.rst#chatsky.utils.turn_caching.singleton_turn_caching.lru_cache)\n",
    "function is demonstrated.\n",
    "\n",
    "This function is used a lot like `functools.lru_cache` function and\n",
    "helps by saving results of heavy function execution and avoiding recalculation.\n",
    "\n",
    "Caches are kept in a library-wide singleton\n",
    "and are cleared at the end of each turn.\n",
    "\n",
    "Maximum size parameter limits the amount of function execution results cached."
   ]
  },
  {
   "cell_type": "code",
   "execution_count": 1,
   "id": "77efb699",
   "metadata": {
    "execution": {
     "iopub.execute_input": "2024-07-05T10:58:56.882284Z",
     "iopub.status.busy": "2024-07-05T10:58:56.881818Z",
     "iopub.status.idle": "2024-07-05T10:58:58.232909Z",
     "shell.execute_reply": "2024-07-05T10:58:58.231897Z"
    }
   },
   "outputs": [
    {
     "name": "stdout",
     "output_type": "stream",
     "text": [
      "\r\n",
      "\u001b[1m[\u001b[0m\u001b[34;49mnotice\u001b[0m\u001b[1;39;49m]\u001b[0m\u001b[39;49m A new release of pip is available: \u001b[0m\u001b[31;49m24.1\u001b[0m\u001b[39;49m -> \u001b[0m\u001b[32;49m24.1.1\u001b[0m\r\n",
      "\u001b[1m[\u001b[0m\u001b[34;49mnotice\u001b[0m\u001b[1;39;49m]\u001b[0m\u001b[39;49m To update, run: \u001b[0m\u001b[32;49mpip install --upgrade pip\u001b[0m\r\n"
     ]
    },
    {
     "name": "stdout",
     "output_type": "stream",
     "text": [
      "Note: you may need to restart the kernel to use updated packages.\n"
     ]
    }
   ],
   "source": [
    "# installing dependencies\n",
    "%pip install -q chatsky"
   ]
  },
  {
   "cell_type": "code",
   "execution_count": 2,
   "id": "68921d43",
   "metadata": {
    "execution": {
     "iopub.execute_input": "2024-07-05T10:58:58.237609Z",
     "iopub.status.busy": "2024-07-05T10:58:58.237352Z",
     "iopub.status.idle": "2024-07-05T10:58:59.163969Z",
     "shell.execute_reply": "2024-07-05T10:58:59.163152Z"
    }
   },
   "outputs": [],
   "source": [
    "from chatsky.script.conditions import true\n",
    "from chatsky.script import Context, TRANSITIONS, RESPONSE, Message\n",
    "from chatsky.script.labels import repeat\n",
    "from chatsky.pipeline import Pipeline\n",
    "from chatsky.utils.turn_caching import lru_cache\n",
    "from chatsky.utils.testing.common import (\n",
    "    check_happy_path,\n",
    "    is_interactive_mode,\n",
    "    run_interactive_mode,\n",
    ")\n",
    "\n",
    "external_data = {\"counter\": 0}"
   ]
  },
  {
   "cell_type": "code",
   "execution_count": 3,
   "id": "12ca5a8b",
   "metadata": {
    "execution": {
     "iopub.execute_input": "2024-07-05T10:58:59.168206Z",
     "iopub.status.busy": "2024-07-05T10:58:59.167826Z",
     "iopub.status.idle": "2024-07-05T10:58:59.173307Z",
     "shell.execute_reply": "2024-07-05T10:58:59.172594Z"
    }
   },
   "outputs": [],
   "source": [
    "@lru_cache(maxsize=2)\n",
    "def cached_response(_):\n",
    "    \"\"\"\n",
    "    This function will work exactly the same as the one from previous\n",
    "    tutorial with only one exception.\n",
    "    Only 2 results will be stored;\n",
    "    when the function will be executed with third arguments set,\n",
    "    the least recent result will be deleted.\n",
    "    \"\"\"\n",
    "    external_data[\"counter\"] += 1\n",
    "    return external_data[\"counter\"]\n",
    "\n",
    "\n",
    "def response(_: Context, __: Pipeline) -> Message:\n",
    "    return Message(\n",
    "        text=f\"{cached_response(1)}-{cached_response(2)}-{cached_response(3)}-\"\n",
    "        f\"{cached_response(2)}-{cached_response(1)}\"\n",
    "    )"
   ]
  },
  {
   "cell_type": "code",
   "execution_count": 4,
   "id": "285d72a6",
   "metadata": {
    "execution": {
     "iopub.execute_input": "2024-07-05T10:58:59.176120Z",
     "iopub.status.busy": "2024-07-05T10:58:59.175694Z",
     "iopub.status.idle": "2024-07-05T10:58:59.180127Z",
     "shell.execute_reply": "2024-07-05T10:58:59.179491Z"
    }
   },
   "outputs": [],
   "source": [
    "toy_script = {\n",
    "    \"flow\": {\"node1\": {TRANSITIONS: {repeat(): true()}, RESPONSE: response}}\n",
    "}\n",
    "\n",
    "happy_path = (\n",
    "    (Message(), \"1-2-3-2-4\"),\n",
    "    (Message(), \"5-6-7-6-8\"),\n",
    "    (Message(), \"9-10-11-10-12\"),\n",
    ")\n",
    "\n",
    "pipeline = Pipeline.from_script(toy_script, start_label=(\"flow\", \"node1\"))"
   ]
  },
  {
   "cell_type": "code",
   "execution_count": 5,
   "id": "fa62cae6",
   "metadata": {
    "execution": {
     "iopub.execute_input": "2024-07-05T10:58:59.183174Z",
     "iopub.status.busy": "2024-07-05T10:58:59.182747Z",
     "iopub.status.idle": "2024-07-05T10:58:59.199534Z",
     "shell.execute_reply": "2024-07-05T10:58:59.198764Z"
    }
   },
   "outputs": [
    {
     "name": "stdout",
     "output_type": "stream",
     "text": [
      "(user) >>> \n",
      " (bot) <<< text='1-2-3-2-4'\n",
      "(user) >>> \n",
      " (bot) <<< text='5-6-7-6-8'\n",
      "(user) >>> \n",
      " (bot) <<< text='9-10-11-10-12'\n"
     ]
    }
   ],
   "source": [
    "if __name__ == \"__main__\":\n",
    "    check_happy_path(pipeline, happy_path)\n",
    "    if is_interactive_mode():\n",
    "        run_interactive_mode(pipeline)"
   ]
  }
 ],
 "metadata": {
  "jupytext": {
   "cell_metadata_filter": "-all",
   "main_language": "python",
   "notebook_metadata_filter": "-all",
   "text_representation": {
    "extension": ".py",
    "format_name": "percent"
   }
  },
  "language_info": {
   "codemirror_mode": {
    "name": "ipython",
    "version": 3
   },
   "file_extension": ".py",
   "mimetype": "text/x-python",
   "name": "python",
   "nbconvert_exporter": "python",
   "pygments_lexer": "ipython3",
   "version": "3.9.19"
  }
 },
 "nbformat": 4,
 "nbformat_minor": 5
}
