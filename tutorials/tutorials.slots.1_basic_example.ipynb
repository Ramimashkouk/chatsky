{
 "cells": [
  {
   "cell_type": "markdown",
   "id": "a383e375",
   "metadata": {
    "cell_marker": "\"\"\""
   },
   "source": [
    "# 1. Basic Example\n",
    "\n",
    "The following tutorial shows basic usage of slots extraction\n",
    "module packaged with `chatsky`."
   ]
  },
  {
   "cell_type": "code",
   "execution_count": 1,
   "id": "a6bdb2ae",
   "metadata": {
    "execution": {
     "iopub.execute_input": "2024-07-05T10:58:38.783345Z",
     "iopub.status.busy": "2024-07-05T10:58:38.782511Z",
     "iopub.status.idle": "2024-07-05T10:58:40.148063Z",
     "shell.execute_reply": "2024-07-05T10:58:40.146698Z"
    }
   },
   "outputs": [
    {
     "name": "stdout",
     "output_type": "stream",
     "text": [
      "\r\n",
      "\u001b[1m[\u001b[0m\u001b[34;49mnotice\u001b[0m\u001b[1;39;49m]\u001b[0m\u001b[39;49m A new release of pip is available: \u001b[0m\u001b[31;49m24.1\u001b[0m\u001b[39;49m -> \u001b[0m\u001b[32;49m24.1.1\u001b[0m\r\n",
      "\u001b[1m[\u001b[0m\u001b[34;49mnotice\u001b[0m\u001b[1;39;49m]\u001b[0m\u001b[39;49m To update, run: \u001b[0m\u001b[32;49mpip install --upgrade pip\u001b[0m\r\n"
     ]
    },
    {
     "name": "stdout",
     "output_type": "stream",
     "text": [
      "Note: you may need to restart the kernel to use updated packages.\n"
     ]
    }
   ],
   "source": [
    "# installing dependencies\n",
    "%pip install -q chatsky"
   ]
  },
  {
   "cell_type": "code",
   "execution_count": 2,
   "id": "b296529a",
   "metadata": {
    "execution": {
     "iopub.execute_input": "2024-07-05T10:58:40.151873Z",
     "iopub.status.busy": "2024-07-05T10:58:40.151598Z",
     "iopub.status.idle": "2024-07-05T10:58:41.037372Z",
     "shell.execute_reply": "2024-07-05T10:58:41.036404Z"
    }
   },
   "outputs": [],
   "source": [
    "from chatsky.script import conditions as cnd\n",
    "from chatsky.script import (\n",
    "    RESPONSE,\n",
    "    TRANSITIONS,\n",
    "    PRE_TRANSITIONS_PROCESSING,\n",
    "    PRE_RESPONSE_PROCESSING,\n",
    "    GLOBAL,\n",
    "    LOCAL,\n",
    "    Message,\n",
    ")\n",
    "\n",
    "from chatsky.pipeline import Pipeline\n",
    "from chatsky.slots import GroupSlot, RegexpSlot\n",
    "from chatsky.slots import processing as slot_procs\n",
    "from chatsky.slots import response as slot_rsp\n",
    "from chatsky.slots import conditions as slot_cnd\n",
    "\n",
    "from chatsky.utils.testing import (\n",
    "    check_happy_path,\n",
    "    is_interactive_mode,\n",
    "    run_interactive_mode,\n",
    ")"
   ]
  },
  {
   "cell_type": "markdown",
   "id": "bd3d183f",
   "metadata": {
    "cell_marker": "\"\"\""
   },
   "source": [
    "The slots fall into the following category groups:\n",
    "\n",
    "- Value slots can be used to extract slot values from user utterances.\n",
    "- Group slots can be used to split value slots into groups\n",
    "    with an arbitrary level of nesting.\n",
    "\n",
    "You can build the slot tree by passing the child slot instances as extra fields\n",
    "of the parent slot. In the following cell, we define two slot groups:\n",
    "\n",
    "    Group 1: person.username, person.email\n",
    "    Group 2: friend.first_name, friend.last_name\n",
    "\n",
    "Currently there are two types of value slots:\n",
    "\n",
    "- [RegexpSlot](../apiref/chatsky.slots.slots.rst#chatsky.slots.slots.RegexpSlot):\n",
    "    Extracts slot values via regexp.\n",
    "- [FunctionSlot](../apiref/chatsky.slots.slots.rst#chatsky.slots.slots.FunctionSlot):\n",
    "    Extracts slot values with the help of a user-defined function."
   ]
  },
  {
   "cell_type": "code",
   "execution_count": 3,
   "id": "0d6f0b53",
   "metadata": {
    "execution": {
     "iopub.execute_input": "2024-07-05T10:58:41.041811Z",
     "iopub.status.busy": "2024-07-05T10:58:41.041332Z",
     "iopub.status.idle": "2024-07-05T10:58:41.047087Z",
     "shell.execute_reply": "2024-07-05T10:58:41.046356Z"
    }
   },
   "outputs": [],
   "source": [
    "SLOTS = GroupSlot(\n",
    "    person=GroupSlot(\n",
    "        username=RegexpSlot(\n",
    "            regexp=r\"username is ([a-zA-Z]+)\",\n",
    "            match_group_idx=1,\n",
    "        ),\n",
    "        email=RegexpSlot(\n",
    "            regexp=r\"email is ([a-z@\\.A-Z]+)\",\n",
    "            match_group_idx=1,\n",
    "        ),\n",
    "    ),\n",
    "    friend=GroupSlot(\n",
    "        first_name=RegexpSlot(regexp=r\"^[A-Z][a-z]+?(?= )\"),\n",
    "        last_name=RegexpSlot(regexp=r\"(?<= )[A-Z][a-z]+\"),\n",
    "    ),\n",
    ")"
   ]
  },
  {
   "cell_type": "markdown",
   "id": "6b9aad44",
   "metadata": {
    "cell_marker": "\"\"\""
   },
   "source": [
    "The slots module provides several functions for managing slots in-script:\n",
    "\n",
    "- [slots_extracted](../apiref/chatsky.slots.conditions.rst#chatsky.slots.conditions.slots_extracted):\n",
    "    Condition for checking if specified slots are extracted.\n",
    "- [extract](../apiref/chatsky.slots.processing.rst#chatsky.slots.processing.extract):\n",
    "    A processing function that extracts specified slots.\n",
    "- [extract_all](../apiref/chatsky.slots.processing.rst#chatsky.slots.processing.extract_all):\n",
    "    A processing function that extracts all slots.\n",
    "- [unset](../apiref/chatsky.slots.processing.rst#chatsky.slots.processing.unset):\n",
    "    A processing function that marks specified slots as not extracted,\n",
    "    effectively resetting their state.\n",
    "- [unset_all](../apiref/chatsky.slots.processing.rst#chatsky.slots.processing.unset_all):\n",
    "    A processing function that marks all slots as not extracted.\n",
    "- [fill_template](../apiref/chatsky.slots.processing.rst#chatsky.slots.processing.fill_template):\n",
    "    A processing function that fills the `response`\n",
    "    Message text with extracted slot values.\n",
    "- [filled_template](../apiref/chatsky.slots.response.rst#chatsky.slots.response.filled_template):\n",
    "    A response function that takes a Message with a\n",
    "    format-string text and returns Message\n",
    "    with its text string filled with extracted slot values.\n",
    "\n",
    "The usage of all the above functions is shown in the following script:"
   ]
  },
  {
   "cell_type": "code",
   "execution_count": 4,
   "id": "b8fc32a0",
   "metadata": {
    "execution": {
     "iopub.execute_input": "2024-07-05T10:58:41.050300Z",
     "iopub.status.busy": "2024-07-05T10:58:41.049871Z",
     "iopub.status.idle": "2024-07-05T10:58:41.060487Z",
     "shell.execute_reply": "2024-07-05T10:58:41.059836Z"
    }
   },
   "outputs": [],
   "source": [
    "script = {\n",
    "    GLOBAL: {TRANSITIONS: {(\"username_flow\", \"ask\"): cnd.regexp(r\"^[sS]tart\")}},\n",
    "    \"username_flow\": {\n",
    "        LOCAL: {\n",
    "            PRE_TRANSITIONS_PROCESSING: {\n",
    "                \"get_slot\": slot_procs.extract(\"person.username\")\n",
    "            },\n",
    "            TRANSITIONS: {\n",
    "                (\"email_flow\", \"ask\", 1.2): slot_cnd.slots_extracted(\n",
    "                    \"person.username\"\n",
    "                ),\n",
    "                (\"username_flow\", \"repeat_question\", 0.8): cnd.true(),\n",
    "            },\n",
    "        },\n",
    "        \"ask\": {\n",
    "            RESPONSE: Message(text=\"Write your username (my username is ...):\"),\n",
    "        },\n",
    "        \"repeat_question\": {\n",
    "            RESPONSE: Message(\n",
    "                text=\"Please, type your username again (my username is ...):\"\n",
    "            )\n",
    "        },\n",
    "    },\n",
    "    \"email_flow\": {\n",
    "        LOCAL: {\n",
    "            PRE_TRANSITIONS_PROCESSING: {\n",
    "                \"get_slot\": slot_procs.extract(\"person.email\")\n",
    "            },\n",
    "            TRANSITIONS: {\n",
    "                (\"friend_flow\", \"ask\", 1.2): slot_cnd.slots_extracted(\n",
    "                    \"person.username\", \"person.email\"\n",
    "                ),\n",
    "                (\"email_flow\", \"repeat_question\", 0.8): cnd.true(),\n",
    "            },\n",
    "        },\n",
    "        \"ask\": {\n",
    "            RESPONSE: Message(text=\"Write your email (my email is ...):\"),\n",
    "        },\n",
    "        \"repeat_question\": {\n",
    "            RESPONSE: Message(\n",
    "                text=\"Please, write your email again (my email is ...):\"\n",
    "            )\n",
    "        },\n",
    "    },\n",
    "    \"friend_flow\": {\n",
    "        LOCAL: {\n",
    "            PRE_TRANSITIONS_PROCESSING: {\n",
    "                \"get_slots\": slot_procs.extract(\"friend\")\n",
    "            },\n",
    "            TRANSITIONS: {\n",
    "                (\"root\", \"utter\", 1.2): slot_cnd.slots_extracted(\n",
    "                    \"friend.first_name\", \"friend.last_name\", mode=\"any\"\n",
    "                ),\n",
    "                (\"friend_flow\", \"repeat_question\", 0.8): cnd.true(),\n",
    "            },\n",
    "        },\n",
    "        \"ask\": {\n",
    "            RESPONSE: Message(\n",
    "                text=\"Please, name me one of your friends: (John Doe)\"\n",
    "            )\n",
    "        },\n",
    "        \"repeat_question\": {\n",
    "            RESPONSE: Message(\n",
    "                text=\"Please, name me one of your friends again: (John Doe)\"\n",
    "            )\n",
    "        },\n",
    "    },\n",
    "    \"root\": {\n",
    "        \"start\": {\n",
    "            RESPONSE: Message(text=\"\"),\n",
    "            TRANSITIONS: {(\"username_flow\", \"ask\"): cnd.true()},\n",
    "        },\n",
    "        \"fallback\": {\n",
    "            RESPONSE: Message(text=\"Finishing query\"),\n",
    "            TRANSITIONS: {(\"username_flow\", \"ask\"): cnd.true()},\n",
    "        },\n",
    "        \"utter\": {\n",
    "            RESPONSE: slot_rsp.filled_template(\n",
    "                Message(\n",
    "                    text=\"Your friend is {friend.first_name} {friend.last_name}\"\n",
    "                )\n",
    "            ),\n",
    "            TRANSITIONS: {(\"root\", \"utter_alternative\"): cnd.true()},\n",
    "        },\n",
    "        \"utter_alternative\": {\n",
    "            RESPONSE: Message(\n",
    "                text=\"Your username is {person.username}. \"\n",
    "                \"Your email is {person.email}.\"\n",
    "            ),\n",
    "            PRE_RESPONSE_PROCESSING: {\"fill\": slot_procs.fill_template()},\n",
    "            TRANSITIONS: {(\"root\", \"fallback\"): cnd.true()},\n",
    "        },\n",
    "    },\n",
    "}"
   ]
  },
  {
   "cell_type": "code",
   "execution_count": 5,
   "id": "b69b823e",
   "metadata": {
    "execution": {
     "iopub.execute_input": "2024-07-05T10:58:41.063612Z",
     "iopub.status.busy": "2024-07-05T10:58:41.063155Z",
     "iopub.status.idle": "2024-07-05T10:58:41.068183Z",
     "shell.execute_reply": "2024-07-05T10:58:41.067466Z"
    }
   },
   "outputs": [],
   "source": [
    "HAPPY_PATH = [\n",
    "    (\n",
    "        Message(text=\"hi\"),\n",
    "        Message(text=\"Write your username (my username is ...):\"),\n",
    "    ),\n",
    "    (\n",
    "        Message(text=\"my username is groot\"),\n",
    "        Message(text=\"Write your email (my email is ...):\"),\n",
    "    ),\n",
    "    (\n",
    "        Message(text=\"my email is groot@gmail.com\"),\n",
    "        Message(text=\"Please, name me one of your friends: (John Doe)\"),\n",
    "    ),\n",
    "    (Message(text=\"Bob Page\"), Message(text=\"Your friend is Bob Page\")),\n",
    "    (\n",
    "        Message(text=\"ok\"),\n",
    "        Message(text=\"Your username is groot. Your email is groot@gmail.com.\"),\n",
    "    ),\n",
    "    (Message(text=\"ok\"), Message(text=\"Finishing query\")),\n",
    "]"
   ]
  },
  {
   "cell_type": "code",
   "execution_count": 6,
   "id": "d406e61c",
   "metadata": {
    "execution": {
     "iopub.execute_input": "2024-07-05T10:58:41.071135Z",
     "iopub.status.busy": "2024-07-05T10:58:41.070631Z",
     "iopub.status.idle": "2024-07-05T10:58:41.096212Z",
     "shell.execute_reply": "2024-07-05T10:58:41.095377Z"
    }
   },
   "outputs": [
    {
     "name": "stdout",
     "output_type": "stream",
     "text": [
      "(user) >>> text='hi'\n",
      " (bot) <<< text='Write your username (my username is ...):'\n",
      "(user) >>> text='my username is groot'\n",
      " (bot) <<< text='Write your email (my email is ...):'\n",
      "(user) >>> text='my email is groot@gmail.com'\n",
      " (bot) <<< text='Please, name me one of your friends: (John Doe)'\n",
      "(user) >>> text='Bob Page'\n",
      " (bot) <<< text='Your friend is Bob Page'\n",
      "(user) >>> text='ok'\n",
      " (bot) <<< text='Your username is groot. Your email is groot@gmail.com.'\n",
      "(user) >>> text='ok'\n",
      " (bot) <<< text='Finishing query'\n"
     ]
    }
   ],
   "source": [
    "pipeline = Pipeline.from_script(\n",
    "    script,\n",
    "    start_label=(\"root\", \"start\"),\n",
    "    fallback_label=(\"root\", \"fallback\"),\n",
    "    slots=SLOTS,\n",
    ")\n",
    "\n",
    "if __name__ == \"__main__\":\n",
    "    check_happy_path(\n",
    "        pipeline, HAPPY_PATH\n",
    "    )  # This is a function for automatic tutorial running\n",
    "    # (testing) with HAPPY_PATH\n",
    "\n",
    "    # This runs tutorial in interactive mode if not in IPython env\n",
    "    # and if `DISABLE_INTERACTIVE_MODE` is not set\n",
    "    if is_interactive_mode():\n",
    "        run_interactive_mode(pipeline)"
   ]
  }
 ],
 "metadata": {
  "jupytext": {
   "cell_metadata_filter": "-all",
   "main_language": "python",
   "notebook_metadata_filter": "-all",
   "text_representation": {
    "extension": ".py",
    "format_name": "percent"
   }
  },
  "language_info": {
   "codemirror_mode": {
    "name": "ipython",
    "version": 3
   },
   "file_extension": ".py",
   "mimetype": "text/x-python",
   "name": "python",
   "nbconvert_exporter": "python",
   "pygments_lexer": "ipython3",
   "version": "3.9.19"
  }
 },
 "nbformat": 4,
 "nbformat_minor": 5
}
