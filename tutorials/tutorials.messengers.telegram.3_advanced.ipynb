{
 "cells": [
  {
   "cell_type": "markdown",
   "id": "56905713",
   "metadata": {
    "cell_marker": "\"\"\""
   },
   "source": [
    "# Telegram: 3. Advanced\n",
    "\n",
    "The following tutorial shows several advanced cases of user-to-bot interaction.\n",
    "\n",
    "Here, [LongpollingInterface](../apiref/chatsky.messengers.telegram.interface.rst#chatsky.messengers.telegram.interface.LongpollingInterface)\n",
    "class and [python-telegram-bot](https://docs.python-telegram-bot.org/)\n",
    "library are used for accessing telegram API in polling mode.\n",
    "\n",
    "Telegram API token is required to access telegram API."
   ]
  },
  {
   "cell_type": "code",
   "execution_count": 1,
   "id": "70a89536",
   "metadata": {
    "execution": {
     "iopub.execute_input": "2024-07-05T10:56:33.340430Z",
     "iopub.status.busy": "2024-07-05T10:56:33.340006Z",
     "iopub.status.idle": "2024-07-05T10:56:34.677942Z",
     "shell.execute_reply": "2024-07-05T10:56:34.676881Z"
    }
   },
   "outputs": [
    {
     "name": "stdout",
     "output_type": "stream",
     "text": [
      "\r\n",
      "\u001b[1m[\u001b[0m\u001b[34;49mnotice\u001b[0m\u001b[1;39;49m]\u001b[0m\u001b[39;49m A new release of pip is available: \u001b[0m\u001b[31;49m24.1\u001b[0m\u001b[39;49m -> \u001b[0m\u001b[32;49m24.1.1\u001b[0m\r\n",
      "\u001b[1m[\u001b[0m\u001b[34;49mnotice\u001b[0m\u001b[1;39;49m]\u001b[0m\u001b[39;49m To update, run: \u001b[0m\u001b[32;49mpip install --upgrade pip\u001b[0m\r\n"
     ]
    },
    {
     "name": "stdout",
     "output_type": "stream",
     "text": [
      "Note: you may need to restart the kernel to use updated packages.\n"
     ]
    }
   ],
   "source": [
    "# installing dependencies\n",
    "%pip install -q chatsky[telegram]"
   ]
  },
  {
   "cell_type": "code",
   "execution_count": 2,
   "id": "acfb763b",
   "metadata": {
    "execution": {
     "iopub.execute_input": "2024-07-05T10:56:34.681754Z",
     "iopub.status.busy": "2024-07-05T10:56:34.681414Z",
     "iopub.status.idle": "2024-07-05T10:56:35.840646Z",
     "shell.execute_reply": "2024-07-05T10:56:35.839699Z"
    },
    "lines_to_next_cell": 2
   },
   "outputs": [],
   "source": [
    "import os\n",
    "from hashlib import sha256\n",
    "from urllib.request import urlopen\n",
    "\n",
    "from pydantic import HttpUrl\n",
    "from telegram import InlineKeyboardButton, InlineKeyboardMarkup\n",
    "from telegram.constants import ParseMode\n",
    "\n",
    "from chatsky.script import conditions as cnd\n",
    "from chatsky.script import RESPONSE, TRANSITIONS, Message\n",
    "from chatsky.messengers.telegram import LongpollingInterface\n",
    "from chatsky.pipeline import Pipeline\n",
    "from chatsky.script.core.context import Context\n",
    "from chatsky.script.core.keywords import GLOBAL\n",
    "from chatsky.script.core.message import (\n",
    "    DataAttachment,\n",
    "    Document,\n",
    "    Image,\n",
    "    Location,\n",
    "    Sticker,\n",
    ")\n",
    "from chatsky.utils.testing.common import is_interactive_mode"
   ]
  },
  {
   "cell_type": "markdown",
   "id": "990638b9",
   "metadata": {
    "cell_marker": "\"\"\""
   },
   "source": [
    "This bot shows different special telegram messenger interface use cases,\n",
    "such as:\n",
    "\n",
    "1. Interactive keyboard with buttons.\n",
    "2. Text formatted with Markdown V2.\n",
    "3. Multiple attachments of different kind handling.\n",
    "4. Image with a spoiler.\n",
    "5. Document with a thumbnail.\n",
    "6. Attachment bytes hash.\n",
    "\n",
    "Check out\n",
    "[this](https://docs.python-telegram-bot.org/en/latest/telegram.bot.html#telegram.Bot)\n",
    "class for information about different arguments\n",
    "for sending attachments, `send_...` methods.\n",
    "\n",
    "Last option (\"Raw attachments!\") button might be especially interesting,\n",
    "because it shows how bot percepts different telegram attachments sent by user\n",
    "in terms and datastructures of Chatsky."
   ]
  },
  {
   "cell_type": "code",
   "execution_count": 3,
   "id": "03eae84e",
   "metadata": {
    "execution": {
     "iopub.execute_input": "2024-07-05T10:56:35.845654Z",
     "iopub.status.busy": "2024-07-05T10:56:35.844990Z",
     "iopub.status.idle": "2024-07-05T10:56:35.881974Z",
     "shell.execute_reply": "2024-07-05T10:56:35.881255Z"
    },
    "lines_to_next_cell": 2
   },
   "outputs": [],
   "source": [
    "\n",
    "EXAMPLE_ATTACHMENT_SOURCE = (\n",
    "    \"https://github.com/deeppavlov/chatsky/wiki/example_attachments\"\n",
    ")\n",
    "\n",
    "image_url = HttpUrl(f\"{EXAMPLE_ATTACHMENT_SOURCE}/deeppavlov.png\")\n",
    "\n",
    "formatted_text = \"\"\"\n",
    "Visit [this link](https://core.telegram.org/bots/api#formatting-options)\n",
    "for more information about formatting options in telegram\\.\n",
    "\n",
    "Run /start command again to restart\\.\n",
    "\"\"\"  # noqa: W605\n",
    "\n",
    "location_data = {\"latitude\": 59.9386, \"longitude\": 30.3141}\n",
    "\n",
    "sticker_data = {\n",
    "    \"id\": (\n",
    "        \"CAACAgIAAxkBAAErBZ1mKAbZvEOmhscojaIL5q0u8v\"\n",
    "        + \"gp1wACRygAAiSjCUtLa7RHZy76ezQE\"\n",
    "    ),\n",
    "}\n",
    "\n",
    "image_data = {\n",
    "    \"source\": image_url,\n",
    "    \"caption\": \"DeepPavlov logo\",\n",
    "    \"has_spoiler\": True,\n",
    "    \"filename\": \"deeppavlov_logo.png\",\n",
    "}\n",
    "\n",
    "document_data = {\n",
    "    \"source\": HttpUrl(f\"{EXAMPLE_ATTACHMENT_SOURCE}/deeppavlov-article.pdf\"),\n",
    "    \"caption\": \"DeepPavlov article\",\n",
    "    \"filename\": \"deeppavlov_article.pdf\",\n",
    "    \"thumbnail\": urlopen(str(image_url)).read(),\n",
    "}"
   ]
  },
  {
   "cell_type": "code",
   "execution_count": 4,
   "id": "03f3814c",
   "metadata": {
    "execution": {
     "iopub.execute_input": "2024-07-05T10:56:35.885611Z",
     "iopub.status.busy": "2024-07-05T10:56:35.885111Z",
     "iopub.status.idle": "2024-07-05T10:56:35.890818Z",
     "shell.execute_reply": "2024-07-05T10:56:35.890091Z"
    },
    "lines_to_next_cell": 2
   },
   "outputs": [],
   "source": [
    "async def hash_data_attachment_request(ctx: Context, pipe: Pipeline) -> Message:\n",
    "    attachment = [\n",
    "        a for a in ctx.last_request.attachments if isinstance(a, DataAttachment)\n",
    "    ]\n",
    "    if len(attachment) > 0:\n",
    "        attachment_bytes = await attachment[0].get_bytes(\n",
    "            pipe.messenger_interface\n",
    "        )\n",
    "        attachment_hash = sha256(attachment_bytes).hexdigest()\n",
    "        resp_format = (\n",
    "            \"Here's your previous request first attachment sha256 hash: `{}`!\\n\"\n",
    "            + \"Run /start command again to restart.\"\n",
    "        )\n",
    "        return Message(\n",
    "            resp_format.format(\n",
    "                attachment_hash, parse_mode=ParseMode.MARKDOWN_V2\n",
    "            )\n",
    "        )\n",
    "    else:\n",
    "        return Message(\n",
    "            \"Last request did not contain any data attachment!\\n\"\n",
    "            + \"Run /start command again to restart.\"\n",
    "        )"
   ]
  },
  {
   "cell_type": "code",
   "execution_count": 5,
   "id": "2e232ab8",
   "metadata": {
    "execution": {
     "iopub.execute_input": "2024-07-05T10:56:35.893775Z",
     "iopub.status.busy": "2024-07-05T10:56:35.893384Z",
     "iopub.status.idle": "2024-07-05T10:56:35.905503Z",
     "shell.execute_reply": "2024-07-05T10:56:35.904682Z"
    },
    "lines_to_next_cell": 2
   },
   "outputs": [],
   "source": [
    "script = {\n",
    "    GLOBAL: {\n",
    "        TRANSITIONS: {\n",
    "            (\"main_flow\", \"main_node\"): cnd.exact_match(\"/start\"),\n",
    "        }\n",
    "    },\n",
    "    \"main_flow\": {\n",
    "        \"start_node\": {},\n",
    "        \"main_node\": {\n",
    "            RESPONSE: Message(\n",
    "                attachments=[\n",
    "                    Location(\n",
    "                        latitude=58.431610,\n",
    "                        longitude=27.792887,\n",
    "                        reply_markup=InlineKeyboardMarkup(\n",
    "                            [\n",
    "                                [\n",
    "                                    InlineKeyboardButton(\n",
    "                                        \"Cute formatted text!\",\n",
    "                                        callback_data=\"formatted\",\n",
    "                                    ),\n",
    "                                ],\n",
    "                                [\n",
    "                                    InlineKeyboardButton(\n",
    "                                        \"Multiple attachments!\",\n",
    "                                        callback_data=\"attachments\",\n",
    "                                    ),\n",
    "                                ],\n",
    "                                [\n",
    "                                    InlineKeyboardButton(\n",
    "                                        \"Secret image!\", callback_data=\"secret\"\n",
    "                                    ),\n",
    "                                ],\n",
    "                                [\n",
    "                                    InlineKeyboardButton(\n",
    "                                        \"Document with thumbnail!\",\n",
    "                                        callback_data=\"thumbnail\",\n",
    "                                    ),\n",
    "                                ],\n",
    "                                [\n",
    "                                    InlineKeyboardButton(\n",
    "                                        \"First attachment bytes hash!\",\n",
    "                                        callback_data=\"hash\",\n",
    "                                    ),\n",
    "                                ],\n",
    "                                [\n",
    "                                    InlineKeyboardButton(\n",
    "                                        \"Restart!\", callback_data=\"restart\"\n",
    "                                    ),\n",
    "                                    InlineKeyboardButton(\n",
    "                                        \"Quit!\", callback_data=\"quit\"\n",
    "                                    ),\n",
    "                                ],\n",
    "                            ],\n",
    "                        ),\n",
    "                    ),\n",
    "                ],\n",
    "            ),\n",
    "            TRANSITIONS: {\n",
    "                \"formatted_node\": cnd.has_callback_query(\"formatted\"),\n",
    "                \"attachments_node\": cnd.has_callback_query(\"attachments\"),\n",
    "                \"secret_node\": cnd.has_callback_query(\"secret\"),\n",
    "                \"thumbnail_node\": cnd.has_callback_query(\"thumbnail\"),\n",
    "                \"hash_init_node\": cnd.has_callback_query(\"hash\"),\n",
    "                \"main_node\": cnd.has_callback_query(\"restart\"),\n",
    "                \"fallback_node\": cnd.has_callback_query(\"quit\"),\n",
    "            },\n",
    "        },\n",
    "        \"formatted_node\": {\n",
    "            RESPONSE: Message(formatted_text, parse_mode=ParseMode.MARKDOWN_V2),\n",
    "        },\n",
    "        \"attachments_node\": {\n",
    "            RESPONSE: Message(\n",
    "                \"Here's your message with multiple attachments \"\n",
    "                + \"(a location and a sticker)!\\n\"\n",
    "                + \"Run /start command again to restart.\",\n",
    "                attachments=[\n",
    "                    Location(**location_data),\n",
    "                    Sticker(**sticker_data),\n",
    "                ],\n",
    "            ),\n",
    "        },\n",
    "        \"secret_node\": {\n",
    "            RESPONSE: Message(\n",
    "                \"Here's your secret image! \"\n",
    "                + \"Run /start command again to restart.\",\n",
    "                attachments=[Image(**image_data)],\n",
    "            ),\n",
    "        },\n",
    "        \"thumbnail_node\": {\n",
    "            RESPONSE: Message(\n",
    "                \"Here's your document with tumbnail! \"\n",
    "                + \"Run /start command again to restart.\",\n",
    "                attachments=[Document(**document_data)],\n",
    "            ),\n",
    "        },\n",
    "        \"hash_init_node\": {\n",
    "            RESPONSE: Message(\n",
    "                \"Alright! Now send me a message with data attachment \"\n",
    "                + \"(audio, video, animation, image, sticker or document)!\"\n",
    "            ),\n",
    "            TRANSITIONS: {\"hash_request_node\": cnd.true()},\n",
    "        },\n",
    "        \"hash_request_node\": {\n",
    "            RESPONSE: hash_data_attachment_request,\n",
    "        },\n",
    "        \"fallback_node\": {\n",
    "            RESPONSE: Message(\n",
    "                \"Bot has entered unrecoverable state:\"\n",
    "                + \"/\\nRun /start command again to restart.\"\n",
    "            ),\n",
    "        },\n",
    "    },\n",
    "}"
   ]
  },
  {
   "cell_type": "code",
   "execution_count": 6,
   "id": "6df21ca5",
   "metadata": {
    "execution": {
     "iopub.execute_input": "2024-07-05T10:56:35.908442Z",
     "iopub.status.busy": "2024-07-05T10:56:35.908056Z",
     "iopub.status.idle": "2024-07-05T10:56:35.977756Z",
     "shell.execute_reply": "2024-07-05T10:56:35.976998Z"
    },
    "lines_to_next_cell": 2
   },
   "outputs": [],
   "source": [
    "interface = LongpollingInterface(token=os.environ[\"TG_BOT_TOKEN\"])"
   ]
  },
  {
   "cell_type": "code",
   "execution_count": 7,
   "id": "e72b8a12",
   "metadata": {
    "execution": {
     "iopub.execute_input": "2024-07-05T10:56:35.981556Z",
     "iopub.status.busy": "2024-07-05T10:56:35.981133Z",
     "iopub.status.idle": "2024-07-05T10:56:35.986699Z",
     "shell.execute_reply": "2024-07-05T10:56:35.985862Z"
    }
   },
   "outputs": [],
   "source": [
    "pipeline = Pipeline.from_script(\n",
    "    script=script,\n",
    "    start_label=(\"main_flow\", \"start_node\"),\n",
    "    fallback_label=(\"main_flow\", \"fallback_node\"),\n",
    "    messenger_interface=interface,\n",
    "    # The interface can be passed as a pipeline argument.\n",
    ")\n",
    "\n",
    "\n",
    "if __name__ == \"__main__\":\n",
    "    if is_interactive_mode():\n",
    "        # prevent run during doc building\n",
    "        pipeline.run()"
   ]
  }
 ],
 "metadata": {
  "jupytext": {
   "cell_metadata_filter": "-all",
   "main_language": "python",
   "notebook_metadata_filter": "-all",
   "text_representation": {
    "extension": ".py",
    "format_name": "percent"
   }
  },
  "language_info": {
   "codemirror_mode": {
    "name": "ipython",
    "version": 3
   },
   "file_extension": ".py",
   "mimetype": "text/x-python",
   "name": "python",
   "nbconvert_exporter": "python",
   "pygments_lexer": "ipython3",
   "version": "3.9.19"
  }
 },
 "nbformat": 4,
 "nbformat_minor": 5
}
