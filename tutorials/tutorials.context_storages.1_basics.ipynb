{
 "cells": [
  {
   "cell_type": "markdown",
   "id": "6d5c872d",
   "metadata": {
    "cell_marker": "\"\"\""
   },
   "source": [
    "# 1. Basics\n",
    "\n",
    "The following tutorial shows the basic use of the database connection.\n",
    "\n",
    "See [context_storage_factory](../apiref/chatsky.context_storages.database.rst#chatsky.context_storages.database.context_storage_factory) function\n",
    "for creating a context storage by path.\n",
    "\n",
    "In this example JSON file is used as a storage."
   ]
  },
  {
   "cell_type": "code",
   "execution_count": 1,
   "id": "f8cc415d",
   "metadata": {
    "execution": {
     "iopub.execute_input": "2024-07-05T10:55:41.076723Z",
     "iopub.status.busy": "2024-07-05T10:55:41.076281Z",
     "iopub.status.idle": "2024-07-05T10:55:42.655340Z",
     "shell.execute_reply": "2024-07-05T10:55:42.654126Z"
    }
   },
   "outputs": [
    {
     "name": "stdout",
     "output_type": "stream",
     "text": [
      "\r\n",
      "\u001b[1m[\u001b[0m\u001b[34;49mnotice\u001b[0m\u001b[1;39;49m]\u001b[0m\u001b[39;49m A new release of pip is available: \u001b[0m\u001b[31;49m24.1\u001b[0m\u001b[39;49m -> \u001b[0m\u001b[32;49m24.1.1\u001b[0m\r\n",
      "\u001b[1m[\u001b[0m\u001b[34;49mnotice\u001b[0m\u001b[1;39;49m]\u001b[0m\u001b[39;49m To update, run: \u001b[0m\u001b[32;49mpip install --upgrade pip\u001b[0m\r\n"
     ]
    },
    {
     "name": "stdout",
     "output_type": "stream",
     "text": [
      "Note: you may need to restart the kernel to use updated packages.\n"
     ]
    }
   ],
   "source": [
    "# installing dependencies\n",
    "%pip install -q chatsky[json,pickle]"
   ]
  },
  {
   "cell_type": "code",
   "execution_count": 2,
   "id": "bf9c0e51",
   "metadata": {
    "execution": {
     "iopub.execute_input": "2024-07-05T10:55:42.659645Z",
     "iopub.status.busy": "2024-07-05T10:55:42.659025Z",
     "iopub.status.idle": "2024-07-05T10:55:43.597873Z",
     "shell.execute_reply": "2024-07-05T10:55:43.596983Z"
    }
   },
   "outputs": [
    {
     "name": "stdout",
     "output_type": "stream",
     "text": [
      "(user) >>> text='Hi'\n",
      " (bot) <<< text='Hi, how are you?'\n",
      "(user) >>> text='i'm fine, how are you?'\n",
      " (bot) <<< text='Good. What do you want to talk about?'\n",
      "(user) >>> text='Let's talk about music.'\n",
      " (bot) <<< text='Sorry, I can not talk about music now.'\n",
      "(user) >>> text='Ok, goodbye.'\n",
      " (bot) <<< text='bye'\n",
      "(user) >>> text='Hi'\n",
      " (bot) <<< text='Hi, how are you?'\n"
     ]
    }
   ],
   "source": [
    "import pathlib\n",
    "\n",
    "from chatsky.context_storages import context_storage_factory\n",
    "\n",
    "from chatsky.pipeline import Pipeline\n",
    "from chatsky.utils.testing.common import (\n",
    "    check_happy_path,\n",
    "    is_interactive_mode,\n",
    "    run_interactive_mode,\n",
    ")\n",
    "from chatsky.utils.testing.toy_script import TOY_SCRIPT_ARGS, HAPPY_PATH\n",
    "\n",
    "pathlib.Path(\"dbs\").mkdir(exist_ok=True)\n",
    "db = context_storage_factory(\"json://dbs/file.json\")\n",
    "# db = context_storage_factory(\"pickle://dbs/file.pkl\")\n",
    "# db = context_storage_factory(\"shelve://dbs/file\")\n",
    "\n",
    "pipeline = Pipeline.from_script(*TOY_SCRIPT_ARGS, context_storage=db)\n",
    "\n",
    "if __name__ == \"__main__\":\n",
    "    check_happy_path(pipeline, HAPPY_PATH)\n",
    "    # a function for automatic tutorial running (testing) with HAPPY_PATH\n",
    "\n",
    "    # This runs tutorial in interactive mode if not in IPython env\n",
    "    # and if `DISABLE_INTERACTIVE_MODE` is not set\n",
    "    if is_interactive_mode():\n",
    "        run_interactive_mode(pipeline)  # This runs tutorial in interactive mode"
   ]
  }
 ],
 "metadata": {
  "jupytext": {
   "cell_metadata_filter": "-all",
   "main_language": "python",
   "notebook_metadata_filter": "-all",
   "text_representation": {
    "extension": ".py",
    "format_name": "percent"
   }
  },
  "language_info": {
   "codemirror_mode": {
    "name": "ipython",
    "version": 3
   },
   "file_extension": ".py",
   "mimetype": "text/x-python",
   "name": "python",
   "nbconvert_exporter": "python",
   "pygments_lexer": "ipython3",
   "version": "3.9.19"
  }
 },
 "nbformat": 4,
 "nbformat_minor": 5
}
