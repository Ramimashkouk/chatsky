{
 "cells": [
  {
   "cell_type": "markdown",
   "id": "af44821a",
   "metadata": {
    "cell_marker": "\"\"\""
   },
   "source": [
    "# Core: 8. Misc\n",
    "\n",
    "This tutorial shows `MISC` (miscellaneous) keyword usage.\n",
    "\n",
    "See [MISC](../apiref/chatsky.script.core.keywords.rst#chatsky.script.core.keywords.Keywords.MISC)\n",
    "for more information.\n",
    "\n",
    "First of all, let's do all the necessary imports from Chatsky."
   ]
  },
  {
   "cell_type": "code",
   "execution_count": 1,
   "id": "965cf5e5",
   "metadata": {
    "execution": {
     "iopub.execute_input": "2024-07-05T10:58:17.400726Z",
     "iopub.status.busy": "2024-07-05T10:58:17.399972Z",
     "iopub.status.idle": "2024-07-05T10:58:18.752794Z",
     "shell.execute_reply": "2024-07-05T10:58:18.751636Z"
    }
   },
   "outputs": [
    {
     "name": "stdout",
     "output_type": "stream",
     "text": [
      "\r\n",
      "\u001b[1m[\u001b[0m\u001b[34;49mnotice\u001b[0m\u001b[1;39;49m]\u001b[0m\u001b[39;49m A new release of pip is available: \u001b[0m\u001b[31;49m24.1\u001b[0m\u001b[39;49m -> \u001b[0m\u001b[32;49m24.1.1\u001b[0m\r\n",
      "\u001b[1m[\u001b[0m\u001b[34;49mnotice\u001b[0m\u001b[1;39;49m]\u001b[0m\u001b[39;49m To update, run: \u001b[0m\u001b[32;49mpip install --upgrade pip\u001b[0m\r\n"
     ]
    },
    {
     "name": "stdout",
     "output_type": "stream",
     "text": [
      "Note: you may need to restart the kernel to use updated packages.\n"
     ]
    }
   ],
   "source": [
    "# installing dependencies\n",
    "%pip install -q chatsky"
   ]
  },
  {
   "cell_type": "code",
   "execution_count": 2,
   "id": "62322631",
   "metadata": {
    "execution": {
     "iopub.execute_input": "2024-07-05T10:58:18.757232Z",
     "iopub.status.busy": "2024-07-05T10:58:18.756822Z",
     "iopub.status.idle": "2024-07-05T10:58:19.717487Z",
     "shell.execute_reply": "2024-07-05T10:58:19.716544Z"
    }
   },
   "outputs": [],
   "source": [
    "from chatsky.script import (\n",
    "    GLOBAL,\n",
    "    LOCAL,\n",
    "    RESPONSE,\n",
    "    TRANSITIONS,\n",
    "    MISC,\n",
    "    Context,\n",
    "    Message,\n",
    ")\n",
    "import chatsky.script.labels as lbl\n",
    "import chatsky.script.conditions as cnd\n",
    "from chatsky.pipeline import Pipeline\n",
    "from chatsky.utils.testing.common import (\n",
    "    check_happy_path,\n",
    "    is_interactive_mode,\n",
    "    run_interactive_mode,\n",
    ")"
   ]
  },
  {
   "cell_type": "code",
   "execution_count": 3,
   "id": "ca709285",
   "metadata": {
    "execution": {
     "iopub.execute_input": "2024-07-05T10:58:19.722329Z",
     "iopub.status.busy": "2024-07-05T10:58:19.721867Z",
     "iopub.status.idle": "2024-07-05T10:58:19.727004Z",
     "shell.execute_reply": "2024-07-05T10:58:19.726226Z"
    }
   },
   "outputs": [],
   "source": [
    "def custom_response(ctx: Context, _: Pipeline) -> Message:\n",
    "    current_node = ctx.current_node\n",
    "    current_misc = current_node.misc if current_node is not None else None\n",
    "    return Message(\n",
    "        text=f\"ctx.last_label={ctx.last_label}: \"\n",
    "        f\"current_node.misc={current_misc}\"\n",
    "    )"
   ]
  },
  {
   "cell_type": "code",
   "execution_count": 4,
   "id": "53c2009d",
   "metadata": {
    "execution": {
     "iopub.execute_input": "2024-07-05T10:58:19.730110Z",
     "iopub.status.busy": "2024-07-05T10:58:19.729644Z",
     "iopub.status.idle": "2024-07-05T10:58:19.738774Z",
     "shell.execute_reply": "2024-07-05T10:58:19.738130Z"
    },
    "lines_to_next_cell": 2
   },
   "outputs": [],
   "source": [
    "toy_script = {\n",
    "    \"root\": {\n",
    "        \"start\": {\n",
    "            RESPONSE: Message(),\n",
    "            TRANSITIONS: {(\"flow\", \"step_0\"): cnd.true()},\n",
    "        },\n",
    "        \"fallback\": {RESPONSE: Message(\"the end\")},\n",
    "    },\n",
    "    GLOBAL: {\n",
    "        MISC: {\n",
    "            \"var1\": \"global_data\",\n",
    "            \"var2\": \"global_data\",\n",
    "            \"var3\": \"global_data\",\n",
    "        }\n",
    "    },\n",
    "    \"flow\": {\n",
    "        LOCAL: {\n",
    "            MISC: {\n",
    "                \"var2\": \"rewrite_by_local\",\n",
    "                \"var3\": \"rewrite_by_local\",\n",
    "            }\n",
    "        },\n",
    "        \"step_0\": {\n",
    "            MISC: {\"var3\": \"info_of_step_0\"},\n",
    "            RESPONSE: custom_response,\n",
    "            TRANSITIONS: {lbl.forward(): cnd.true()},\n",
    "        },\n",
    "        \"step_1\": {\n",
    "            MISC: {\"var3\": \"info_of_step_1\"},\n",
    "            RESPONSE: custom_response,\n",
    "            TRANSITIONS: {lbl.forward(): cnd.true()},\n",
    "        },\n",
    "        \"step_2\": {\n",
    "            MISC: {\"var3\": \"info_of_step_2\"},\n",
    "            RESPONSE: custom_response,\n",
    "            TRANSITIONS: {lbl.forward(): cnd.true()},\n",
    "        },\n",
    "        \"step_3\": {\n",
    "            MISC: {\"var3\": \"info_of_step_3\"},\n",
    "            RESPONSE: custom_response,\n",
    "            TRANSITIONS: {lbl.forward(): cnd.true()},\n",
    "        },\n",
    "        \"step_4\": {\n",
    "            MISC: {\"var3\": \"info_of_step_4\"},\n",
    "            RESPONSE: custom_response,\n",
    "            TRANSITIONS: {\"step_0\": cnd.true()},\n",
    "        },\n",
    "    },\n",
    "}\n",
    "\n",
    "\n",
    "# testing\n",
    "happy_path = (\n",
    "    (\n",
    "        Message(),\n",
    "        \"ctx.last_label=('flow', 'step_0'): current_node.misc=\"\n",
    "        \"{'var1': 'global_data', \"\n",
    "        \"'var2': 'rewrite_by_local', \"\n",
    "        \"'var3': 'info_of_step_0'}\",\n",
    "    ),\n",
    "    (\n",
    "        Message(),\n",
    "        \"ctx.last_label=('flow', 'step_1'): current_node.misc=\"\n",
    "        \"{'var1': 'global_data', \"\n",
    "        \"'var2': 'rewrite_by_local', \"\n",
    "        \"'var3': 'info_of_step_1'}\",\n",
    "    ),\n",
    "    (\n",
    "        Message(),\n",
    "        \"ctx.last_label=('flow', 'step_2'): current_node.misc=\"\n",
    "        \"{'var1': 'global_data', \"\n",
    "        \"'var2': 'rewrite_by_local', \"\n",
    "        \"'var3': 'info_of_step_2'}\",\n",
    "    ),\n",
    "    (\n",
    "        Message(),\n",
    "        \"ctx.last_label=('flow', 'step_3'): current_node.misc=\"\n",
    "        \"{'var1': 'global_data', \"\n",
    "        \"'var2': 'rewrite_by_local', \"\n",
    "        \"'var3': 'info_of_step_3'}\",\n",
    "    ),\n",
    "    (\n",
    "        Message(),\n",
    "        \"ctx.last_label=('flow', 'step_4'): current_node.misc=\"\n",
    "        \"{'var1': 'global_data', \"\n",
    "        \"'var2': 'rewrite_by_local', \"\n",
    "        \"'var3': 'info_of_step_4'}\",\n",
    "    ),\n",
    "    (\n",
    "        Message(),\n",
    "        \"ctx.last_label=('flow', 'step_0'): current_node.misc=\"\n",
    "        \"{'var1': 'global_data', \"\n",
    "        \"'var2': 'rewrite_by_local', \"\n",
    "        \"'var3': 'info_of_step_0'}\",\n",
    "    ),\n",
    ")"
   ]
  },
  {
   "cell_type": "code",
   "execution_count": 5,
   "id": "6c1f2a1a",
   "metadata": {
    "execution": {
     "iopub.execute_input": "2024-07-05T10:58:19.742184Z",
     "iopub.status.busy": "2024-07-05T10:58:19.741683Z",
     "iopub.status.idle": "2024-07-05T10:58:19.764185Z",
     "shell.execute_reply": "2024-07-05T10:58:19.763434Z"
    }
   },
   "outputs": [
    {
     "name": "stdout",
     "output_type": "stream",
     "text": [
      "(user) >>> \n",
      " (bot) <<< text='ctx.last_label=('flow', 'step_0'): current_node.misc={'var1': 'global_data', 'var2': 'rewrite_by_local', 'var3': 'info_of_step_0'}'\n",
      "(user) >>> \n",
      " (bot) <<< text='ctx.last_label=('flow', 'step_1'): current_node.misc={'var1': 'global_data', 'var2': 'rewrite_by_local', 'var3': 'info_of_step_1'}'\n",
      "(user) >>> \n",
      " (bot) <<< text='ctx.last_label=('flow', 'step_2'): current_node.misc={'var1': 'global_data', 'var2': 'rewrite_by_local', 'var3': 'info_of_step_2'}'\n",
      "(user) >>> \n",
      " (bot) <<< text='ctx.last_label=('flow', 'step_3'): current_node.misc={'var1': 'global_data', 'var2': 'rewrite_by_local', 'var3': 'info_of_step_3'}'\n",
      "(user) >>> \n",
      " (bot) <<< text='ctx.last_label=('flow', 'step_4'): current_node.misc={'var1': 'global_data', 'var2': 'rewrite_by_local', 'var3': 'info_of_step_4'}'\n",
      "(user) >>> \n",
      " (bot) <<< text='ctx.last_label=('flow', 'step_0'): current_node.misc={'var1': 'global_data', 'var2': 'rewrite_by_local', 'var3': 'info_of_step_0'}'\n"
     ]
    }
   ],
   "source": [
    "pipeline = Pipeline.from_script(\n",
    "    toy_script,\n",
    "    start_label=(\"root\", \"start\"),\n",
    "    fallback_label=(\"root\", \"fallback\"),\n",
    ")\n",
    "\n",
    "if __name__ == \"__main__\":\n",
    "    check_happy_path(pipeline, happy_path)\n",
    "    if is_interactive_mode():\n",
    "        run_interactive_mode(pipeline)"
   ]
  }
 ],
 "metadata": {
  "jupytext": {
   "cell_metadata_filter": "-all",
   "main_language": "python",
   "notebook_metadata_filter": "-all",
   "text_representation": {
    "extension": ".py",
    "format_name": "percent"
   }
  },
  "language_info": {
   "codemirror_mode": {
    "name": "ipython",
    "version": 3
   },
   "file_extension": ".py",
   "mimetype": "text/x-python",
   "name": "python",
   "nbconvert_exporter": "python",
   "pygments_lexer": "ipython3",
   "version": "3.9.19"
  }
 },
 "nbformat": 4,
 "nbformat_minor": 5
}
