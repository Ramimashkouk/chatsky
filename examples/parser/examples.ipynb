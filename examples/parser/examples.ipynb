{
 "cells": [
  {
   "cell_type": "markdown",
   "id": "9cc511bb",
   "metadata": {},
   "source": [
    "**_Note:_** examples here use the python interface of the parser but it's identical to parser's cli"
   ]
  },
  {
   "cell_type": "code",
   "execution_count": 1,
   "id": "c9f46885",
   "metadata": {},
   "outputs": [],
   "source": [
    "import dff.script.import_export.parser\n",
    "from pathlib import Path\n",
    "from tempfile import mkdtemp"
   ]
  },
  {
   "cell_type": "code",
   "execution_count": 2,
   "id": "d9831000",
   "metadata": {},
   "outputs": [],
   "source": [
    "example_dir = Path(mkdtemp())"
   ]
  },
  {
   "cell_type": "markdown",
   "id": "6d98ac5e",
   "metadata": {},
   "source": [
    "## 1. Basic examples"
   ]
  },
  {
   "cell_type": "markdown",
   "id": "17a53e48",
   "metadata": {},
   "source": [
    "This basic example shows that parser can extract imports, dictionaries, function calls."
   ]
  },
  {
   "cell_type": "code",
   "execution_count": 3,
   "id": "d6a5768b",
   "metadata": {},
   "outputs": [],
   "source": [
    "working_dir = example_dir / \"basic_example\"\n",
    "working_dir.mkdir()\n",
    "main_file = working_dir / \"main.py\"\n",
    "main_file.touch()\n",
    "yaml_file = working_dir / \"script.yaml\""
   ]
  },
  {
   "cell_type": "code",
   "execution_count": 4,
   "id": "53c04456",
   "metadata": {},
   "outputs": [
    {
     "name": "stdout",
     "output_type": "stream",
     "text": [
      "namespaces:\n",
      "  main:\n",
      "    Path: !from pathlib Path\n",
      "    dfe: !import dff.core.engine\n",
      "    mypackage: !import mypackage\n",
      "    dictionary:\n",
      "      '1': Path\n",
      "      '2': dfe\n",
      "      '3':\n",
      "        '4': mypackage\n",
      "      '4': text\n",
      "    result: !call\n",
      "      name: this_function_does_not_exist\n",
      "      args:\n",
      "        0: dictionary\n",
      "\n"
     ]
    }
   ],
   "source": [
    "with open(main_file, \"w\") as main:\n",
    "    main.write(\"\"\"\n",
    "from pathlib import Path\n",
    "import dff.core.engine as dfe\n",
    "import mypackage\n",
    "\n",
    "dictionary = {\n",
    "    1: Path,\n",
    "    2: dfe,\n",
    "    3: {4: mypackage},\n",
    "    4: \"text\",\n",
    "}\n",
    "\n",
    "result = this_function_does_not_exist(dictionary)\n",
    "    \"\"\")\n",
    "\n",
    "dff.script.import_export.parser.py2yaml(\n",
    "    root_file=main_file,\n",
    "    project_root_dir=working_dir,\n",
    "    output_file=yaml_file\n",
    ")\n",
    "\n",
    "with open(yaml_file, \"r\") as out:\n",
    "    print(out.read())"
   ]
  },
  {
   "cell_type": "code",
   "execution_count": 5,
   "id": "a677fb48",
   "metadata": {},
   "outputs": [
    {
     "name": "stderr",
     "output_type": "stream",
     "text": [
      "WARNING:root:File /tmp/tmpsmt8_e0q/basic_example/main.py already exists\n"
     ]
    },
    {
     "name": "stdout",
     "output_type": "stream",
     "text": [
      "from pathlib import Path as Path\n",
      "import dff.core.engine as dfe\n",
      "import mypackage as mypackage\n",
      "\n",
      "dictionary = {1: Path, 2: dfe, 3: {4: mypackage}, 4: \"text\"}\n",
      "result = this_function_does_not_exist(dictionary)\n",
      "\n"
     ]
    }
   ],
   "source": [
    "dff.script.import_export.parser.yaml2py(\n",
    "    yaml_file=yaml_file,\n",
    "    extract_to_directory=working_dir\n",
    ")\n",
    "\n",
    "with open(main_file, \"r\") as out:\n",
    "    print(out.read())"
   ]
  },
  {
   "cell_type": "markdown",
   "id": "c6b94fea",
   "metadata": {},
   "source": [
    "## 2. Str tag"
   ]
  },
  {
   "cell_type": "markdown",
   "id": "96d665ff",
   "metadata": {},
   "source": [
    "As you can see in a previous example both dictionary values ``Path`` and ``text`` are written in plain text. How did ``yaml2py`` parser figure out that it needs to put quotations around ``text``? Parser checks every plain text on whether it could be a correct line of python code. If it isn't parser knows that it's a string.\n",
    "\n",
    "But what if you want to use a string that is also a correct line of python code? That's where ``!str`` tag comes in:"
   ]
  },
  {
   "cell_type": "code",
   "execution_count": 6,
   "id": "36189f88",
   "metadata": {},
   "outputs": [],
   "source": [
    "working_dir = example_dir / \"str_tag\"\n",
    "working_dir.mkdir()\n",
    "main_file = working_dir / \"main.py\"\n",
    "main_file.touch()\n",
    "yaml_file = working_dir / \"script.yaml\""
   ]
  },
  {
   "cell_type": "code",
   "execution_count": 7,
   "id": "c8ae141c",
   "metadata": {},
   "outputs": [
    {
     "name": "stderr",
     "output_type": "stream",
     "text": [
      "WARNING:root:Value printd is not a correct line of python code\n",
      "WARNING:root:Value printd is not a correct line of python code\n"
     ]
    },
    {
     "name": "stdout",
     "output_type": "stream",
     "text": [
      "namespaces:\n",
      "  main:\n",
      "    Path: !from pathlib Path\n",
      "    dictionary:\n",
      "      '1': Path\n",
      "      '2': !str Path\n",
      "      '3': print\n",
      "      '4': !str print\n",
      "      '5': !py printd\n",
      "      '6': printd\n",
      "\n"
     ]
    }
   ],
   "source": [
    "with open(main_file, \"w\") as main:\n",
    "    main.write(\"\"\"\n",
    "from pathlib import Path\n",
    "\n",
    "dictionary = {\n",
    "    1: Path,\n",
    "    2: \"Path\",\n",
    "    3: print,\n",
    "    4: \"print\",\n",
    "    5: printd,\n",
    "    6: \"printd\"\n",
    "}\n",
    "\n",
    "    \"\"\")\n",
    "\n",
    "dff.script.import_export.parser.py2yaml(\n",
    "    root_file=main_file,\n",
    "    project_root_dir=working_dir,\n",
    "    output_file=yaml_file\n",
    ")\n",
    "\n",
    "with open(yaml_file, \"r\") as out:\n",
    "    print(out.read())"
   ]
  },
  {
   "cell_type": "code",
   "execution_count": 8,
   "id": "a62c2fb6",
   "metadata": {},
   "outputs": [
    {
     "name": "stderr",
     "output_type": "stream",
     "text": [
      "WARNING:root:File /tmp/tmpsmt8_e0q/str_tag/main.py already exists\n"
     ]
    },
    {
     "name": "stdout",
     "output_type": "stream",
     "text": [
      "from pathlib import Path as Path\n",
      "\n",
      "dictionary = {1: Path, 2: \"Path\", 3: print, 4: \"print\", 5: printd, 6: \"printd\"}\n",
      "\n"
     ]
    }
   ],
   "source": [
    "dff.script.import_export.parser.yaml2py(\n",
    "    yaml_file=yaml_file,\n",
    "    extract_to_directory=working_dir\n",
    ")\n",
    "\n",
    "with open(main_file, \"r\") as out:\n",
    "    print(out.read())"
   ]
  },
  {
   "cell_type": "markdown",
   "id": "89e9d57f",
   "metadata": {},
   "source": [
    "if you want to specify if the parser should treat a value as a string or as a python line of code you could use tags ``!str`` or ``!py`` respectively."
   ]
  },
  {
   "cell_type": "markdown",
   "id": "fbc88e64",
   "metadata": {},
   "source": [
    "## 3. Recursive parsing"
   ]
  },
  {
   "cell_type": "markdown",
   "id": "04e5f05f",
   "metadata": {},
   "source": [
    "If your projects contains several modules that are imported in your ``root_file`` they will be parsed as well:"
   ]
  },
  {
   "cell_type": "code",
   "execution_count": 9,
   "id": "7f2f14b6",
   "metadata": {},
   "outputs": [],
   "source": [
    "working_dir = example_dir / \"recursive_parsing\"\n",
    "working_dir.mkdir()\n",
    "python_files = working_dir / \"python_files\"\n",
    "python_files.mkdir()\n",
    "main_file = python_files / \"main.py\"\n",
    "main_file.touch()\n",
    "\n",
    "some_package = python_files / \"some_package\"\n",
    "some_package.mkdir()\n",
    "(some_package / \"__init__.py\").touch()\n",
    "another_file = some_package / \"another_file.py\"\n",
    "another_file.touch()\n",
    "unparsed = python_files / \"unparsed.py\"\n",
    "unparsed.touch()\n",
    "yaml_file = working_dir / \"script.yaml\""
   ]
  },
  {
   "cell_type": "markdown",
   "id": "8a91eec4",
   "metadata": {},
   "source": [
    "The project has the following structure:\n",
    "\n",
    "``\n",
    "+-- python_files``\n",
    "\n",
    "``\n",
    "+--++-- main.py``\n",
    "\n",
    "``\n",
    "+--++-- some_package``\n",
    "\n",
    "``\n",
    "+--++--++-- another_file.py``\n",
    "\n",
    "``\n",
    "+--++-- unparsed.py``\n"
   ]
  },
  {
   "cell_type": "code",
   "execution_count": 10,
   "id": "31d2325d",
   "metadata": {},
   "outputs": [
    {
     "name": "stderr",
     "output_type": "stream",
     "text": [
      "WARNING:root:Object another_file not found in some_package\n",
      "WARNING:root:File /tmp/tmpsmt8_e0q/recursive_parsing/python_files/unparsed.py not included: File must contain only imports, dict declarations and function calls.\n",
      "            The first line of other type found: print(path)\n"
     ]
    },
    {
     "name": "stdout",
     "output_type": "stream",
     "text": [
      "namespaces:\n",
      "  main:\n",
      "    another_file: !from some_package another_file\n",
      "    something: !from some_package.another_file something\n",
      "    something_else: !from some_package.another_file something_else\n",
      "    unparsed: !import unparsed\n",
      "    dictionary:\n",
      "      '1': something\n",
      "      '2': something_else\n",
      "      '3': unparsed.path\n",
      "  some_package.__init__: {}\n",
      "  some_package.another_file:\n",
      "    something: !import abc\n",
      "\n"
     ]
    }
   ],
   "source": [
    "with open(main_file, \"w\") as main:\n",
    "    main.write(\"\"\"\n",
    "from some_package import another_file\n",
    "from some_package.another_file import something, something_else\n",
    "import unparsed\n",
    "\n",
    "dictionary = {\n",
    "    1: something,\n",
    "    2: something_else,\n",
    "    3: unparsed.path\n",
    "}\n",
    "\n",
    "    \"\"\")\n",
    "    \n",
    "with open(another_file, \"w\") as file:\n",
    "    file.write(\"\"\"\n",
    "import abc as something\n",
    "\n",
    "    \"\"\")\n",
    "    \n",
    "with open(unparsed, \"w\") as file:\n",
    "    file.write(\"\"\"\n",
    "from pathlib import Path as path\n",
    "\n",
    "print(path)\n",
    "\n",
    "    \"\"\")\n",
    "\n",
    "dff.script.import_export.parser.py2yaml(\n",
    "    root_file=main_file,\n",
    "    project_root_dir=python_files,\n",
    "    output_file=yaml_file\n",
    ")\n",
    "\n",
    "with open(yaml_file, \"r\") as out:\n",
    "    print(out.read())"
   ]
  },
  {
   "cell_type": "markdown",
   "id": "eee664f6",
   "metadata": {},
   "source": [
    "As you can see ``unparsed.py`` wasn't parsed as it doesn't follow the parser structure rules described in [README.md](../README.md). Replacing ``print(path)`` with ``some_variable = print(path)`` will fix that issue."
   ]
  },
  {
   "cell_type": "markdown",
   "id": "3716bec8",
   "metadata": {},
   "source": [
    "**_Note:_** If ``project_root_dir`` contains ``__init__.py`` file ``yaml2py`` parser will put all the files inside a new directory with the same name as ``project_root_dir`` inside ``extract_to_directory``. So the result will be:\n",
    "\n",
    "``\n",
    "+-- extract_to_directory``\n",
    "\n",
    "``\n",
    "+--++-- project_root_dir``\n",
    "\n",
    "``\n",
    "+--++--++-- __init__.py``\n",
    "\n",
    "``\n",
    "+--++--++-- ...``\n"
   ]
  },
  {
   "cell_type": "markdown",
   "id": "b495f870",
   "metadata": {},
   "source": [
    "## 4. Actor arg checking"
   ]
  },
  {
   "cell_type": "markdown",
   "id": "ed1e9166",
   "metadata": {},
   "source": [
    "If your script contains a call to ``dff.core.engine.core.Actor`` or ``dff.core.engine.core.actor.Actor`` the arguments of that call will be checked."
   ]
  },
  {
   "cell_type": "code",
   "execution_count": 11,
   "id": "4927e6f5",
   "metadata": {},
   "outputs": [],
   "source": [
    "working_dir = example_dir / \"act_arg\"\n",
    "working_dir.mkdir()\n",
    "main_file = working_dir / \"main.py\"\n",
    "main_file.touch()\n",
    "yaml_file = working_dir / \"script.yaml\""
   ]
  },
  {
   "cell_type": "markdown",
   "id": "130dd6be",
   "metadata": {},
   "source": [
    "So this works fine:"
   ]
  },
  {
   "cell_type": "code",
   "execution_count": 12,
   "id": "43bd2f2c",
   "metadata": {},
   "outputs": [
    {
     "name": "stdout",
     "output_type": "stream",
     "text": [
      "namespaces:\n",
      "  main:\n",
      "    act: !from dff.core.engine.core Actor\n",
      "    kw: !import dff.core.engine.core.keywords\n",
      "    actor: !call\n",
      "      name: act\n",
      "      args:\n",
      "        script:\n",
      "          flow:\n",
      "            node:\n",
      "              kw.RESPONSE: hey\n",
      "        start_label:\n",
      "        - flow\n",
      "        - node\n",
      "\n"
     ]
    }
   ],
   "source": [
    "with open(main_file, \"w\") as main:\n",
    "    main.write(\"\"\"\n",
    "from dff.core.engine.core import Actor as act\n",
    "import dff.core.engine.core.keywords as kw\n",
    "\n",
    "actor = act(\n",
    "    {\"flow\": {\"node\": {kw.RESPONSE: \"hey\"}}},\n",
    "    (\"flow\", \"node\")\n",
    ")\n",
    "\n",
    "    \"\"\")\n",
    "\n",
    "dff.script.import_export.parser.py2yaml(\n",
    "    root_file=main_file,\n",
    "    project_root_dir=working_dir,\n",
    "    output_file=yaml_file\n",
    ")\n",
    "\n",
    "with open(yaml_file, \"r\") as out:\n",
    "    print(out.read())"
   ]
  },
  {
   "cell_type": "markdown",
   "id": "cf4644e3",
   "metadata": {},
   "source": [
    "While this fails:"
   ]
  },
  {
   "cell_type": "code",
   "execution_count": 13,
   "id": "af870223",
   "metadata": {},
   "outputs": [
    {
     "name": "stdout",
     "output_type": "stream",
     "text": [
      "<class 'dff.script.import_export.parser.utils.exceptions.ScriptValidationError'> Node keys should be keywords: ['flow', 'node', kw.response]\n"
     ]
    }
   ],
   "source": [
    "try:\n",
    "    with open(main_file, \"w\") as main:\n",
    "        main.write(\"\"\"\n",
    "from dff.core.engine.core import Actor as act\n",
    "import dff.core.engine.core.keywords as kw\n",
    "\n",
    "script = {\"flow\": {\"node\": {kw.response: \"hey\"}}}\n",
    "\n",
    "actor = act(\n",
    "    start_label=(\"flow\", \"node\"),\n",
    "    script=script\n",
    ")\n",
    "\n",
    "        \"\"\")\n",
    "\n",
    "    dff.script.import_export.parser.py2yaml(\n",
    "        root_file=main_file,\n",
    "        project_root_dir=working_dir,\n",
    "        output_file=yaml_file\n",
    "    )\n",
    "\n",
    "    with open(yaml_file, \"r\") as out:\n",
    "        print(out.read())\n",
    "except Exception as error:\n",
    "    print(type(error), error)"
   ]
  },
  {
   "cell_type": "markdown",
   "id": "f8794ee4",
   "metadata": {},
   "source": [
    "**_Note:_** Actor argument checking works with recursive parsing."
   ]
  },
  {
   "cell_type": "markdown",
   "id": "ca8f3e1f",
   "metadata": {},
   "source": [
    "## 5. Export as graph"
   ]
  },
  {
   "cell_type": "code",
   "execution_count": 14,
   "id": "81ca417c",
   "metadata": {},
   "outputs": [],
   "source": [
    "working_dir = example_dir / \"graph_export\"\n",
    "working_dir.mkdir()\n",
    "main_file = working_dir / \"main.py\"\n",
    "main_file.touch()\n",
    "output_file = working_dir / \"graph.json\""
   ]
  },
  {
   "cell_type": "code",
   "execution_count": 15,
   "id": "aa0f60ac",
   "metadata": {},
   "outputs": [],
   "source": [
    "with open(main_file, \"w\") as main:\n",
    "    main.write(\"\"\"\n",
    "from dff.core.engine.core import Actor as act\n",
    "import dff.core.engine.core.keywords as kw\n",
    "import dff.core.engine.conditions as cnd\n",
    "\n",
    "actor = act(\n",
    "    {\n",
    "        \"flow1\": {\n",
    "            \"node\": {\n",
    "                kw.RESPONSE: \"hey\",\n",
    "                kw.TRANSITIONS: {\n",
    "                    (\"flow2\", \"node\"): cnd.true()\n",
    "                }\n",
    "            }\n",
    "        },\n",
    "        \"flow2\": {\n",
    "            \"node\": {\n",
    "                kw.RESPONSE: \"hi\",\n",
    "                kw.TRANSITIONS: {\n",
    "                    (\"flow1\", \"node\"): cnd.true()\n",
    "                }\n",
    "            }\n",
    "        }\n",
    "    },\n",
    "    (\"flow1\", \"node\")\n",
    ")\n",
    "\n",
    "    \"\"\")"
   ]
  },
  {
   "cell_type": "code",
   "execution_count": 17,
   "id": "1d1b0fa8",
   "metadata": {},
   "outputs": [
    {
     "ename": "AttributeError",
     "evalue": "'tuple' object has no attribute 'display_value'",
     "output_type": "error",
     "traceback": [
      "\u001b[0;31m---------------------------------------------------------------------------\u001b[0m",
      "\u001b[0;31mAttributeError\u001b[0m                            Traceback (most recent call last)",
      "\u001b[0;32m/tmp/ipykernel_3679810/3214612649.py\u001b[0m in \u001b[0;36m<module>\u001b[0;34m\u001b[0m\n\u001b[1;32m      2\u001b[0m     \u001b[0mroot_file\u001b[0m\u001b[0;34m=\u001b[0m\u001b[0mmain_file\u001b[0m\u001b[0;34m,\u001b[0m\u001b[0;34m\u001b[0m\u001b[0;34m\u001b[0m\u001b[0m\n\u001b[1;32m      3\u001b[0m     \u001b[0mproject_root_dir\u001b[0m\u001b[0;34m=\u001b[0m\u001b[0mworking_dir\u001b[0m\u001b[0;34m,\u001b[0m\u001b[0;34m\u001b[0m\u001b[0;34m\u001b[0m\u001b[0m\n\u001b[0;32m----> 4\u001b[0;31m     \u001b[0moutput_file\u001b[0m\u001b[0;34m=\u001b[0m\u001b[0moutput_file\u001b[0m\u001b[0;34m\u001b[0m\u001b[0;34m\u001b[0m\u001b[0m\n\u001b[0m\u001b[1;32m      5\u001b[0m )\n",
      "\u001b[0;32m~/PycharmProjects/dff/dff/script/import_export/parser/tools.py\u001b[0m in \u001b[0;36mpy2yaml\u001b[0;34m(root_file, project_root_dir, output_file)\u001b[0m\n\u001b[1;32m     33\u001b[0m     \"\"\"\n\u001b[1;32m     34\u001b[0m     \u001b[0;32mwith\u001b[0m \u001b[0mopen\u001b[0m\u001b[0;34m(\u001b[0m\u001b[0mPath\u001b[0m\u001b[0;34m(\u001b[0m\u001b[0moutput_file\u001b[0m\u001b[0;34m)\u001b[0m\u001b[0;34m.\u001b[0m\u001b[0mabsolute\u001b[0m\u001b[0;34m(\u001b[0m\u001b[0;34m)\u001b[0m\u001b[0;34m,\u001b[0m \u001b[0;34m\"w\"\u001b[0m\u001b[0;34m,\u001b[0m \u001b[0mencoding\u001b[0m\u001b[0;34m=\u001b[0m\u001b[0;34m\"utf-8\"\u001b[0m\u001b[0;34m)\u001b[0m \u001b[0;32mas\u001b[0m \u001b[0moutfile\u001b[0m\u001b[0;34m:\u001b[0m\u001b[0;34m\u001b[0m\u001b[0;34m\u001b[0m\u001b[0m\n\u001b[0;32m---> 35\u001b[0;31m         \u001b[0mdictionary\u001b[0m \u001b[0;34m=\u001b[0m \u001b[0mRecursiveParser\u001b[0m\u001b[0;34m(\u001b[0m\u001b[0mPath\u001b[0m\u001b[0;34m(\u001b[0m\u001b[0mproject_root_dir\u001b[0m\u001b[0;34m)\u001b[0m\u001b[0;34m.\u001b[0m\u001b[0mabsolute\u001b[0m\u001b[0;34m(\u001b[0m\u001b[0;34m)\u001b[0m\u001b[0;34m)\u001b[0m\u001b[0;34m.\u001b[0m\u001b[0mparse_project_dir\u001b[0m\u001b[0;34m(\u001b[0m\u001b[0mPath\u001b[0m\u001b[0;34m(\u001b[0m\u001b[0mroot_file\u001b[0m\u001b[0;34m)\u001b[0m\u001b[0;34m.\u001b[0m\u001b[0mabsolute\u001b[0m\u001b[0;34m(\u001b[0m\u001b[0;34m)\u001b[0m\u001b[0;34m)\u001b[0m\u001b[0;34m\u001b[0m\u001b[0;34m\u001b[0m\u001b[0m\n\u001b[0m\u001b[1;32m     36\u001b[0m \u001b[0;34m\u001b[0m\u001b[0m\n\u001b[1;32m     37\u001b[0m         \u001b[0myaml_dumper_loader\u001b[0m\u001b[0;34m.\u001b[0m\u001b[0mdump\u001b[0m\u001b[0;34m(\u001b[0m\u001b[0mdictionary\u001b[0m\u001b[0;34m,\u001b[0m \u001b[0moutfile\u001b[0m\u001b[0;34m)\u001b[0m\u001b[0;34m\u001b[0m\u001b[0;34m\u001b[0m\u001b[0m\n",
      "\u001b[0;32m~/PycharmProjects/dff/dff/script/import_export/parser/processors/recursive_parser.py\u001b[0m in \u001b[0;36mparse_project_dir\u001b[0;34m(self, starting_from_file)\u001b[0m\n\u001b[1;32m    361\u001b[0m         )\n\u001b[1;32m    362\u001b[0m \u001b[0;34m\u001b[0m\u001b[0m\n\u001b[0;32m--> 363\u001b[0;31m         \u001b[0mself\u001b[0m\u001b[0;34m.\u001b[0m\u001b[0mfill_namespace_from_file\u001b[0m\u001b[0;34m(\u001b[0m\u001b[0mstarting_from_file\u001b[0m\u001b[0;34m,\u001b[0m \u001b[0mnamespace\u001b[0m\u001b[0;34m)\u001b[0m\u001b[0;34m\u001b[0m\u001b[0;34m\u001b[0m\u001b[0m\n\u001b[0m\u001b[1;32m    364\u001b[0m \u001b[0;34m\u001b[0m\u001b[0m\n\u001b[1;32m    365\u001b[0m         \u001b[0;32mreturn\u001b[0m \u001b[0mself\u001b[0m\u001b[0;34m.\u001b[0m\u001b[0mto_dict\u001b[0m\u001b[0;34m(\u001b[0m\u001b[0;34m)\u001b[0m\u001b[0;34m\u001b[0m\u001b[0;34m\u001b[0m\u001b[0m\n",
      "\u001b[0;32m~/PycharmProjects/dff/dff/script/import_export/parser/processors/recursive_parser.py\u001b[0m in \u001b[0;36mfill_namespace_from_file\u001b[0;34m(self, file, namespace)\u001b[0m\n\u001b[1;32m    344\u001b[0m         \u001b[0mtransformer\u001b[0m \u001b[0;34m=\u001b[0m \u001b[0mParser\u001b[0m\u001b[0;34m(\u001b[0m\u001b[0mself\u001b[0m\u001b[0;34m.\u001b[0m\u001b[0mproject_root_dir\u001b[0m\u001b[0;34m,\u001b[0m \u001b[0mnamespace\u001b[0m\u001b[0;34m)\u001b[0m\u001b[0;34m\u001b[0m\u001b[0;34m\u001b[0m\u001b[0m\n\u001b[1;32m    345\u001b[0m \u001b[0;34m\u001b[0m\u001b[0m\n\u001b[0;32m--> 346\u001b[0;31m         \u001b[0mcheck_file_structure\u001b[0m\u001b[0;34m(\u001b[0m\u001b[0mparsed_file\u001b[0m\u001b[0;34m.\u001b[0m\u001b[0mvisit\u001b[0m\u001b[0;34m(\u001b[0m\u001b[0mtransformer\u001b[0m\u001b[0;34m)\u001b[0m\u001b[0;34m)\u001b[0m\u001b[0;34m\u001b[0m\u001b[0;34m\u001b[0m\u001b[0m\n\u001b[0m\u001b[1;32m    347\u001b[0m         \u001b[0;32mreturn\u001b[0m \u001b[0mtransformer\u001b[0m\u001b[0;34m\u001b[0m\u001b[0;34m\u001b[0m\u001b[0m\n\u001b[1;32m    348\u001b[0m \u001b[0;34m\u001b[0m\u001b[0m\n",
      "\u001b[0;32m~/PycharmProjects/dff/venv_3_7/lib/python3.7/site-packages/libcst/_nodes/module.py\u001b[0m in \u001b[0;36mvisit\u001b[0;34m(self, visitor)\u001b[0m\n\u001b[1;32m     88\u001b[0m         \u001b[0mdependencies\u001b[0m \u001b[0mdeclared\u001b[0m \u001b[0mby\u001b[0m \u001b[0;34m'visitor'\u001b[0m\u001b[0;34m.\u001b[0m\u001b[0;34m\u001b[0m\u001b[0;34m\u001b[0m\u001b[0m\n\u001b[1;32m     89\u001b[0m         \"\"\"\n\u001b[0;32m---> 90\u001b[0;31m         \u001b[0mresult\u001b[0m \u001b[0;34m=\u001b[0m \u001b[0msuper\u001b[0m\u001b[0;34m(\u001b[0m\u001b[0mModule\u001b[0m\u001b[0;34m,\u001b[0m \u001b[0mself\u001b[0m\u001b[0;34m)\u001b[0m\u001b[0;34m.\u001b[0m\u001b[0mvisit\u001b[0m\u001b[0;34m(\u001b[0m\u001b[0mvisitor\u001b[0m\u001b[0;34m)\u001b[0m\u001b[0;34m\u001b[0m\u001b[0;34m\u001b[0m\u001b[0m\n\u001b[0m\u001b[1;32m     91\u001b[0m         \u001b[0;32mif\u001b[0m \u001b[0misinstance\u001b[0m\u001b[0;34m(\u001b[0m\u001b[0mresult\u001b[0m\u001b[0;34m,\u001b[0m \u001b[0mRemovalSentinel\u001b[0m\u001b[0;34m)\u001b[0m\u001b[0;34m:\u001b[0m\u001b[0;34m\u001b[0m\u001b[0;34m\u001b[0m\u001b[0m\n\u001b[1;32m     92\u001b[0m             \u001b[0;32mreturn\u001b[0m \u001b[0mself\u001b[0m\u001b[0;34m.\u001b[0m\u001b[0mwith_changes\u001b[0m\u001b[0;34m(\u001b[0m\u001b[0mbody\u001b[0m\u001b[0;34m=\u001b[0m\u001b[0;34m(\u001b[0m\u001b[0;34m)\u001b[0m\u001b[0;34m,\u001b[0m \u001b[0mheader\u001b[0m\u001b[0;34m=\u001b[0m\u001b[0;34m(\u001b[0m\u001b[0;34m)\u001b[0m\u001b[0;34m,\u001b[0m \u001b[0mfooter\u001b[0m\u001b[0;34m=\u001b[0m\u001b[0;34m(\u001b[0m\u001b[0;34m)\u001b[0m\u001b[0;34m)\u001b[0m\u001b[0;34m\u001b[0m\u001b[0;34m\u001b[0m\u001b[0m\n",
      "\u001b[0;32m~/PycharmProjects/dff/venv_3_7/lib/python3.7/site-packages/libcst/_nodes/base.py\u001b[0m in \u001b[0;36mvisit\u001b[0;34m(self, visitor)\u001b[0m\n\u001b[1;32m    226\u001b[0m             \u001b[0;31m# explanation above the declaration of `_visit_and_replace_children`.\u001b[0m\u001b[0;34m\u001b[0m\u001b[0;34m\u001b[0m\u001b[0;34m\u001b[0m\u001b[0m\n\u001b[1;32m    227\u001b[0m             with_updated_children = cast(\n\u001b[0;32m--> 228\u001b[0;31m                 \u001b[0m_CSTNodeSelfT\u001b[0m\u001b[0;34m,\u001b[0m \u001b[0mself\u001b[0m\u001b[0;34m.\u001b[0m\u001b[0m_visit_and_replace_children\u001b[0m\u001b[0;34m(\u001b[0m\u001b[0mvisitor\u001b[0m\u001b[0;34m)\u001b[0m\u001b[0;34m\u001b[0m\u001b[0;34m\u001b[0m\u001b[0m\n\u001b[0m\u001b[1;32m    229\u001b[0m             )\n\u001b[1;32m    230\u001b[0m         \u001b[0;32melse\u001b[0m\u001b[0;34m:\u001b[0m\u001b[0;34m\u001b[0m\u001b[0;34m\u001b[0m\u001b[0m\n",
      "\u001b[0;32m~/PycharmProjects/dff/venv_3_7/lib/python3.7/site-packages/libcst/_nodes/module.py\u001b[0m in \u001b[0;36m_visit_and_replace_children\u001b[0;34m(self, visitor)\u001b[0m\n\u001b[1;32m     72\u001b[0m         return Module(\n\u001b[1;32m     73\u001b[0m             \u001b[0mheader\u001b[0m\u001b[0;34m=\u001b[0m\u001b[0mvisit_sequence\u001b[0m\u001b[0;34m(\u001b[0m\u001b[0mself\u001b[0m\u001b[0;34m,\u001b[0m \u001b[0;34m\"header\"\u001b[0m\u001b[0;34m,\u001b[0m \u001b[0mself\u001b[0m\u001b[0;34m.\u001b[0m\u001b[0mheader\u001b[0m\u001b[0;34m,\u001b[0m \u001b[0mvisitor\u001b[0m\u001b[0;34m)\u001b[0m\u001b[0;34m,\u001b[0m\u001b[0;34m\u001b[0m\u001b[0;34m\u001b[0m\u001b[0m\n\u001b[0;32m---> 74\u001b[0;31m             \u001b[0mbody\u001b[0m\u001b[0;34m=\u001b[0m\u001b[0mvisit_body_sequence\u001b[0m\u001b[0;34m(\u001b[0m\u001b[0mself\u001b[0m\u001b[0;34m,\u001b[0m \u001b[0;34m\"body\"\u001b[0m\u001b[0;34m,\u001b[0m \u001b[0mself\u001b[0m\u001b[0;34m.\u001b[0m\u001b[0mbody\u001b[0m\u001b[0;34m,\u001b[0m \u001b[0mvisitor\u001b[0m\u001b[0;34m)\u001b[0m\u001b[0;34m,\u001b[0m\u001b[0;34m\u001b[0m\u001b[0;34m\u001b[0m\u001b[0m\n\u001b[0m\u001b[1;32m     75\u001b[0m             \u001b[0mfooter\u001b[0m\u001b[0;34m=\u001b[0m\u001b[0mvisit_sequence\u001b[0m\u001b[0;34m(\u001b[0m\u001b[0mself\u001b[0m\u001b[0;34m,\u001b[0m \u001b[0;34m\"footer\"\u001b[0m\u001b[0;34m,\u001b[0m \u001b[0mself\u001b[0m\u001b[0;34m.\u001b[0m\u001b[0mfooter\u001b[0m\u001b[0;34m,\u001b[0m \u001b[0mvisitor\u001b[0m\u001b[0;34m)\u001b[0m\u001b[0;34m,\u001b[0m\u001b[0;34m\u001b[0m\u001b[0;34m\u001b[0m\u001b[0m\n\u001b[1;32m     76\u001b[0m             \u001b[0mencoding\u001b[0m\u001b[0;34m=\u001b[0m\u001b[0mself\u001b[0m\u001b[0;34m.\u001b[0m\u001b[0mencoding\u001b[0m\u001b[0;34m,\u001b[0m\u001b[0;34m\u001b[0m\u001b[0;34m\u001b[0m\u001b[0m\n",
      "\u001b[0;32m~/PycharmProjects/dff/venv_3_7/lib/python3.7/site-packages/libcst/_nodes/internal.py\u001b[0m in \u001b[0;36mvisit_body_sequence\u001b[0;34m(parent, fieldname, children, visitor)\u001b[0m\n\u001b[1;32m    225\u001b[0m     \u001b[0minstead\u001b[0m \u001b[0mof\u001b[0m \u001b[0man\u001b[0m \u001b[0miterable\u001b[0m\u001b[0;34m.\u001b[0m\u001b[0;34m\u001b[0m\u001b[0;34m\u001b[0m\u001b[0m\n\u001b[1;32m    226\u001b[0m     \"\"\"\n\u001b[0;32m--> 227\u001b[0;31m     \u001b[0;32mreturn\u001b[0m \u001b[0mtuple\u001b[0m\u001b[0;34m(\u001b[0m\u001b[0mvisit_body_iterable\u001b[0m\u001b[0;34m(\u001b[0m\u001b[0mparent\u001b[0m\u001b[0;34m,\u001b[0m \u001b[0mfieldname\u001b[0m\u001b[0;34m,\u001b[0m \u001b[0mchildren\u001b[0m\u001b[0;34m,\u001b[0m \u001b[0mvisitor\u001b[0m\u001b[0;34m)\u001b[0m\u001b[0;34m)\u001b[0m\u001b[0;34m\u001b[0m\u001b[0;34m\u001b[0m\u001b[0m\n\u001b[0m",
      "\u001b[0;32m~/PycharmProjects/dff/venv_3_7/lib/python3.7/site-packages/libcst/_nodes/internal.py\u001b[0m in \u001b[0;36mvisit_body_iterable\u001b[0;34m(parent, fieldname, children, visitor)\u001b[0m\n\u001b[1;32m    191\u001b[0m     \u001b[0mvisitor\u001b[0m\u001b[0;34m.\u001b[0m\u001b[0mon_visit_attribute\u001b[0m\u001b[0;34m(\u001b[0m\u001b[0mparent\u001b[0m\u001b[0;34m,\u001b[0m \u001b[0mfieldname\u001b[0m\u001b[0;34m)\u001b[0m\u001b[0;34m\u001b[0m\u001b[0;34m\u001b[0m\u001b[0m\n\u001b[1;32m    192\u001b[0m     \u001b[0;32mfor\u001b[0m \u001b[0mchild\u001b[0m \u001b[0;32min\u001b[0m \u001b[0mchildren\u001b[0m\u001b[0;34m:\u001b[0m\u001b[0;34m\u001b[0m\u001b[0;34m\u001b[0m\u001b[0m\n\u001b[0;32m--> 193\u001b[0;31m         \u001b[0mnew_child\u001b[0m \u001b[0;34m=\u001b[0m \u001b[0mchild\u001b[0m\u001b[0;34m.\u001b[0m\u001b[0mvisit\u001b[0m\u001b[0;34m(\u001b[0m\u001b[0mvisitor\u001b[0m\u001b[0;34m)\u001b[0m\u001b[0;34m\u001b[0m\u001b[0;34m\u001b[0m\u001b[0m\n\u001b[0m\u001b[1;32m    194\u001b[0m \u001b[0;34m\u001b[0m\u001b[0m\n\u001b[1;32m    195\u001b[0m         \u001b[0;31m# Don't yield a child if we removed it.\u001b[0m\u001b[0;34m\u001b[0m\u001b[0;34m\u001b[0m\u001b[0;34m\u001b[0m\u001b[0m\n",
      "\u001b[0;32m~/PycharmProjects/dff/venv_3_7/lib/python3.7/site-packages/libcst/_nodes/base.py\u001b[0m in \u001b[0;36mvisit\u001b[0;34m(self, visitor)\u001b[0m\n\u001b[1;32m    226\u001b[0m             \u001b[0;31m# explanation above the declaration of `_visit_and_replace_children`.\u001b[0m\u001b[0;34m\u001b[0m\u001b[0;34m\u001b[0m\u001b[0;34m\u001b[0m\u001b[0m\n\u001b[1;32m    227\u001b[0m             with_updated_children = cast(\n\u001b[0;32m--> 228\u001b[0;31m                 \u001b[0m_CSTNodeSelfT\u001b[0m\u001b[0;34m,\u001b[0m \u001b[0mself\u001b[0m\u001b[0;34m.\u001b[0m\u001b[0m_visit_and_replace_children\u001b[0m\u001b[0;34m(\u001b[0m\u001b[0mvisitor\u001b[0m\u001b[0;34m)\u001b[0m\u001b[0;34m\u001b[0m\u001b[0;34m\u001b[0m\u001b[0m\n\u001b[0m\u001b[1;32m    229\u001b[0m             )\n\u001b[1;32m    230\u001b[0m         \u001b[0;32melse\u001b[0m\u001b[0;34m:\u001b[0m\u001b[0;34m\u001b[0m\u001b[0;34m\u001b[0m\u001b[0m\n",
      "\u001b[0;32m~/PycharmProjects/dff/venv_3_7/lib/python3.7/site-packages/libcst/_nodes/statement.py\u001b[0m in \u001b[0;36m_visit_and_replace_children\u001b[0;34m(self, visitor)\u001b[0m\n\u001b[1;32m    441\u001b[0m                 \u001b[0mself\u001b[0m\u001b[0;34m,\u001b[0m \u001b[0;34m\"leading_lines\"\u001b[0m\u001b[0;34m,\u001b[0m \u001b[0mself\u001b[0m\u001b[0;34m.\u001b[0m\u001b[0mleading_lines\u001b[0m\u001b[0;34m,\u001b[0m \u001b[0mvisitor\u001b[0m\u001b[0;34m\u001b[0m\u001b[0;34m\u001b[0m\u001b[0m\n\u001b[1;32m    442\u001b[0m             ),\n\u001b[0;32m--> 443\u001b[0;31m             \u001b[0mbody\u001b[0m\u001b[0;34m=\u001b[0m\u001b[0mvisit_sequence\u001b[0m\u001b[0;34m(\u001b[0m\u001b[0mself\u001b[0m\u001b[0;34m,\u001b[0m \u001b[0;34m\"body\"\u001b[0m\u001b[0;34m,\u001b[0m \u001b[0mself\u001b[0m\u001b[0;34m.\u001b[0m\u001b[0mbody\u001b[0m\u001b[0;34m,\u001b[0m \u001b[0mvisitor\u001b[0m\u001b[0;34m)\u001b[0m\u001b[0;34m,\u001b[0m\u001b[0;34m\u001b[0m\u001b[0;34m\u001b[0m\u001b[0m\n\u001b[0m\u001b[1;32m    444\u001b[0m             trailing_whitespace=visit_required(\n\u001b[1;32m    445\u001b[0m                 \u001b[0mself\u001b[0m\u001b[0;34m,\u001b[0m \u001b[0;34m\"trailing_whitespace\"\u001b[0m\u001b[0;34m,\u001b[0m \u001b[0mself\u001b[0m\u001b[0;34m.\u001b[0m\u001b[0mtrailing_whitespace\u001b[0m\u001b[0;34m,\u001b[0m \u001b[0mvisitor\u001b[0m\u001b[0;34m\u001b[0m\u001b[0;34m\u001b[0m\u001b[0m\n",
      "\u001b[0;32m~/PycharmProjects/dff/venv_3_7/lib/python3.7/site-packages/libcst/_nodes/internal.py\u001b[0m in \u001b[0;36mvisit_sequence\u001b[0;34m(parent, fieldname, children, visitor)\u001b[0m\n\u001b[1;32m    175\u001b[0m     \u001b[0miterable\u001b[0m\u001b[0;34m.\u001b[0m\u001b[0;34m\u001b[0m\u001b[0;34m\u001b[0m\u001b[0m\n\u001b[1;32m    176\u001b[0m     \"\"\"\n\u001b[0;32m--> 177\u001b[0;31m     \u001b[0;32mreturn\u001b[0m \u001b[0mtuple\u001b[0m\u001b[0;34m(\u001b[0m\u001b[0mvisit_iterable\u001b[0m\u001b[0;34m(\u001b[0m\u001b[0mparent\u001b[0m\u001b[0;34m,\u001b[0m \u001b[0mfieldname\u001b[0m\u001b[0;34m,\u001b[0m \u001b[0mchildren\u001b[0m\u001b[0;34m,\u001b[0m \u001b[0mvisitor\u001b[0m\u001b[0;34m)\u001b[0m\u001b[0;34m)\u001b[0m\u001b[0;34m\u001b[0m\u001b[0;34m\u001b[0m\u001b[0m\n\u001b[0m\u001b[1;32m    178\u001b[0m \u001b[0;34m\u001b[0m\u001b[0m\n\u001b[1;32m    179\u001b[0m \u001b[0;34m\u001b[0m\u001b[0m\n",
      "\u001b[0;32m~/PycharmProjects/dff/venv_3_7/lib/python3.7/site-packages/libcst/_nodes/internal.py\u001b[0m in \u001b[0;36mvisit_iterable\u001b[0;34m(parent, fieldname, children, visitor)\u001b[0m\n\u001b[1;32m    157\u001b[0m     \u001b[0mvisitor\u001b[0m\u001b[0;34m.\u001b[0m\u001b[0mon_visit_attribute\u001b[0m\u001b[0;34m(\u001b[0m\u001b[0mparent\u001b[0m\u001b[0;34m,\u001b[0m \u001b[0mfieldname\u001b[0m\u001b[0;34m)\u001b[0m\u001b[0;34m\u001b[0m\u001b[0;34m\u001b[0m\u001b[0m\n\u001b[1;32m    158\u001b[0m     \u001b[0;32mfor\u001b[0m \u001b[0mchild\u001b[0m \u001b[0;32min\u001b[0m \u001b[0mchildren\u001b[0m\u001b[0;34m:\u001b[0m\u001b[0;34m\u001b[0m\u001b[0;34m\u001b[0m\u001b[0m\n\u001b[0;32m--> 159\u001b[0;31m         \u001b[0mnew_child\u001b[0m \u001b[0;34m=\u001b[0m \u001b[0mchild\u001b[0m\u001b[0;34m.\u001b[0m\u001b[0mvisit\u001b[0m\u001b[0;34m(\u001b[0m\u001b[0mvisitor\u001b[0m\u001b[0;34m)\u001b[0m\u001b[0;34m\u001b[0m\u001b[0;34m\u001b[0m\u001b[0m\n\u001b[0m\u001b[1;32m    160\u001b[0m         \u001b[0;32mif\u001b[0m \u001b[0misinstance\u001b[0m\u001b[0;34m(\u001b[0m\u001b[0mnew_child\u001b[0m\u001b[0;34m,\u001b[0m \u001b[0mFlattenSentinel\u001b[0m\u001b[0;34m)\u001b[0m\u001b[0;34m:\u001b[0m\u001b[0;34m\u001b[0m\u001b[0;34m\u001b[0m\u001b[0m\n\u001b[1;32m    161\u001b[0m             \u001b[0;32myield\u001b[0m \u001b[0;32mfrom\u001b[0m \u001b[0mnew_child\u001b[0m\u001b[0;34m\u001b[0m\u001b[0;34m\u001b[0m\u001b[0m\n",
      "\u001b[0;32m~/PycharmProjects/dff/venv_3_7/lib/python3.7/site-packages/libcst/_nodes/base.py\u001b[0m in \u001b[0;36mvisit\u001b[0;34m(self, visitor)\u001b[0m\n\u001b[1;32m    235\u001b[0m             \u001b[0mleave_result\u001b[0m \u001b[0;34m=\u001b[0m \u001b[0mself\u001b[0m\u001b[0;34m\u001b[0m\u001b[0;34m\u001b[0m\u001b[0m\n\u001b[1;32m    236\u001b[0m         \u001b[0;32melse\u001b[0m\u001b[0;34m:\u001b[0m\u001b[0;34m\u001b[0m\u001b[0;34m\u001b[0m\u001b[0m\n\u001b[0;32m--> 237\u001b[0;31m             \u001b[0mleave_result\u001b[0m \u001b[0;34m=\u001b[0m \u001b[0mvisitor\u001b[0m\u001b[0;34m.\u001b[0m\u001b[0mon_leave\u001b[0m\u001b[0;34m(\u001b[0m\u001b[0mself\u001b[0m\u001b[0;34m,\u001b[0m \u001b[0mwith_updated_children\u001b[0m\u001b[0;34m)\u001b[0m\u001b[0;34m\u001b[0m\u001b[0;34m\u001b[0m\u001b[0m\n\u001b[0m\u001b[1;32m    238\u001b[0m \u001b[0;34m\u001b[0m\u001b[0m\n\u001b[1;32m    239\u001b[0m         \u001b[0;31m# validate return type of the user-defined `visitor.on_leave` method\u001b[0m\u001b[0;34m\u001b[0m\u001b[0;34m\u001b[0m\u001b[0;34m\u001b[0m\u001b[0m\n",
      "\u001b[0;32m~/PycharmProjects/dff/venv_3_7/lib/python3.7/site-packages/libcst/matchers/_visitors.py\u001b[0m in \u001b[0;36mon_leave\u001b[0;34m(self, original_node, updated_node)\u001b[0m\n\u001b[1;32m    532\u001b[0m                     \u001b[0mretval\u001b[0m\u001b[0;34m,\u001b[0m \u001b[0mcst\u001b[0m\u001b[0;34m.\u001b[0m\u001b[0mCSTNode\u001b[0m\u001b[0;34m\u001b[0m\u001b[0;34m\u001b[0m\u001b[0m\n\u001b[1;32m    533\u001b[0m                 ):\n\u001b[0;32m--> 534\u001b[0;31m                     \u001b[0mretval\u001b[0m \u001b[0;34m=\u001b[0m \u001b[0mleave_func\u001b[0m\u001b[0;34m(\u001b[0m\u001b[0moriginal_node\u001b[0m\u001b[0;34m,\u001b[0m \u001b[0mretval\u001b[0m\u001b[0;34m)\u001b[0m\u001b[0;34m\u001b[0m\u001b[0;34m\u001b[0m\u001b[0m\n\u001b[0m\u001b[1;32m    535\u001b[0m \u001b[0;34m\u001b[0m\u001b[0m\n\u001b[1;32m    536\u001b[0m         \u001b[0;31m# Now, see if we have any matchers we should deactivate.\u001b[0m\u001b[0;34m\u001b[0m\u001b[0;34m\u001b[0m\u001b[0;34m\u001b[0m\u001b[0m\n",
      "\u001b[0;32m~/PycharmProjects/dff/dff/script/import_export/parser/processors/parse.py\u001b[0m in \u001b[0;36mparse_actor_args\u001b[0;34m(self, original_node, updated_node)\u001b[0m\n\u001b[1;32m    101\u001b[0m                 \u001b[0margs\u001b[0m\u001b[0;34m[\u001b[0m\u001b[0mkeyword\u001b[0m\u001b[0;34m]\u001b[0m \u001b[0;34m=\u001b[0m \u001b[0mself\u001b[0m\u001b[0;34m.\u001b[0m\u001b[0mnode_processor\u001b[0m\u001b[0;34m(\u001b[0m\u001b[0marg\u001b[0m\u001b[0;34m.\u001b[0m\u001b[0mvalue\u001b[0m\u001b[0;34m)\u001b[0m\u001b[0;34m\u001b[0m\u001b[0;34m\u001b[0m\u001b[0m\n\u001b[1;32m    102\u001b[0m                 \u001b[0mlogging\u001b[0m\u001b[0;34m.\u001b[0m\u001b[0minfo\u001b[0m\u001b[0;34m(\u001b[0m\u001b[0;34m\"Found actor call arg %s = %s\"\u001b[0m\u001b[0;34m,\u001b[0m \u001b[0mkeyword\u001b[0m\u001b[0;34m,\u001b[0m \u001b[0margs\u001b[0m\u001b[0;34m[\u001b[0m\u001b[0mkeyword\u001b[0m\u001b[0;34m]\u001b[0m\u001b[0;34m)\u001b[0m\u001b[0;34m\u001b[0m\u001b[0;34m\u001b[0m\u001b[0m\n\u001b[0;32m--> 103\u001b[0;31m             \u001b[0mself\u001b[0m\u001b[0;34m.\u001b[0m\u001b[0madd_assignment\u001b[0m\u001b[0;34m(\u001b[0m\u001b[0mself\u001b[0m\u001b[0;34m.\u001b[0m\u001b[0mnamespace\u001b[0m\u001b[0;34m.\u001b[0m\u001b[0madd_function_call\u001b[0m\u001b[0;34m,\u001b[0m \u001b[0moriginal_node\u001b[0m\u001b[0;34m,\u001b[0m \u001b[0mfunc_name\u001b[0m\u001b[0;34m,\u001b[0m \u001b[0margs\u001b[0m\u001b[0;34m,\u001b[0m \u001b[0;32mTrue\u001b[0m\u001b[0;34m)\u001b[0m\u001b[0;34m\u001b[0m\u001b[0;34m\u001b[0m\u001b[0m\n\u001b[0m\u001b[1;32m    104\u001b[0m         \u001b[0;32melse\u001b[0m\u001b[0;34m:\u001b[0m\u001b[0;34m\u001b[0m\u001b[0;34m\u001b[0m\u001b[0m\n\u001b[1;32m    105\u001b[0m             \u001b[0margs\u001b[0m \u001b[0;34m=\u001b[0m \u001b[0;34m{\u001b[0m\u001b[0;34m}\u001b[0m\u001b[0;34m\u001b[0m\u001b[0;34m\u001b[0m\u001b[0m\n",
      "\u001b[0;32m~/PycharmProjects/dff/dff/script/import_export/parser/processors/parse.py\u001b[0m in \u001b[0;36madd_assignment\u001b[0;34m(self, namespace_insertion_callback, node, *args)\u001b[0m\n\u001b[1;32m     49\u001b[0m         \u001b[0;32melif\u001b[0m \u001b[0misinstance\u001b[0m\u001b[0;34m(\u001b[0m\u001b[0mnode\u001b[0m\u001b[0;34m,\u001b[0m \u001b[0mcst\u001b[0m\u001b[0;34m.\u001b[0m\u001b[0mAssign\u001b[0m\u001b[0;34m)\u001b[0m\u001b[0;34m:\u001b[0m\u001b[0;34m\u001b[0m\u001b[0;34m\u001b[0m\u001b[0m\n\u001b[1;32m     50\u001b[0m             \u001b[0mfirst_target\u001b[0m \u001b[0;34m=\u001b[0m \u001b[0mrepr_libcst_node\u001b[0m\u001b[0;34m(\u001b[0m\u001b[0mnode\u001b[0m\u001b[0;34m.\u001b[0m\u001b[0mtargets\u001b[0m\u001b[0;34m[\u001b[0m\u001b[0;36m0\u001b[0m\u001b[0;34m]\u001b[0m\u001b[0;34m.\u001b[0m\u001b[0mtarget\u001b[0m\u001b[0;34m)\u001b[0m\u001b[0;34m\u001b[0m\u001b[0;34m\u001b[0m\u001b[0m\n\u001b[0;32m---> 51\u001b[0;31m             \u001b[0mnamespace_insertion_callback\u001b[0m\u001b[0;34m(\u001b[0m\u001b[0mfirst_target\u001b[0m\u001b[0;34m,\u001b[0m \u001b[0;34m*\u001b[0m\u001b[0margs\u001b[0m\u001b[0;34m)\u001b[0m\u001b[0;34m\u001b[0m\u001b[0;34m\u001b[0m\u001b[0m\n\u001b[0m\u001b[1;32m     52\u001b[0m             \u001b[0;32mfor\u001b[0m \u001b[0mtarget\u001b[0m \u001b[0;32min\u001b[0m \u001b[0mnode\u001b[0m\u001b[0;34m.\u001b[0m\u001b[0mtargets\u001b[0m\u001b[0;34m[\u001b[0m\u001b[0;36m1\u001b[0m\u001b[0;34m:\u001b[0m\u001b[0;34m]\u001b[0m\u001b[0;34m:\u001b[0m\u001b[0;34m\u001b[0m\u001b[0;34m\u001b[0m\u001b[0m\n\u001b[1;32m     53\u001b[0m                 \u001b[0mself\u001b[0m\u001b[0;34m.\u001b[0m\u001b[0mnamespace\u001b[0m\u001b[0;34m.\u001b[0m\u001b[0madd_alt_name\u001b[0m\u001b[0;34m(\u001b[0m\u001b[0mfirst_target\u001b[0m\u001b[0;34m,\u001b[0m \u001b[0mrepr_libcst_node\u001b[0m\u001b[0;34m(\u001b[0m\u001b[0mtarget\u001b[0m\u001b[0;34m.\u001b[0m\u001b[0mtarget\u001b[0m\u001b[0;34m)\u001b[0m\u001b[0;34m)\u001b[0m\u001b[0;34m\u001b[0m\u001b[0;34m\u001b[0m\u001b[0m\n",
      "\u001b[0;32m~/PycharmProjects/dff/dff/script/import_export/parser/utils/namespaces.py\u001b[0m in \u001b[0;36madd_function_call\u001b[0;34m(self, name, func_name, args, check_args)\u001b[0m\n\u001b[1;32m    413\u001b[0m         \"\"\"\n\u001b[1;32m    414\u001b[0m         \u001b[0;32mif\u001b[0m \u001b[0mcheck_args\u001b[0m \u001b[0;32mand\u001b[0m \u001b[0mself\u001b[0m\u001b[0;34m.\u001b[0m\u001b[0mactor_args_check\u001b[0m\u001b[0;34m:\u001b[0m\u001b[0;34m\u001b[0m\u001b[0;34m\u001b[0m\u001b[0m\n\u001b[0;32m--> 415\u001b[0;31m             \u001b[0mself\u001b[0m\u001b[0;34m.\u001b[0m\u001b[0mactor_args_check\u001b[0m\u001b[0;34m(\u001b[0m\u001b[0margs\u001b[0m\u001b[0;34m,\u001b[0m \u001b[0;34m[\u001b[0m\u001b[0mself\u001b[0m\u001b[0;34m.\u001b[0m\u001b[0mname\u001b[0m\u001b[0;34m,\u001b[0m \u001b[0mname\u001b[0m\u001b[0;34m,\u001b[0m \u001b[0;34m\"script\"\u001b[0m\u001b[0;34m]\u001b[0m\u001b[0;34m)\u001b[0m\u001b[0;34m\u001b[0m\u001b[0;34m\u001b[0m\u001b[0m\n\u001b[0m\u001b[1;32m    416\u001b[0m         \u001b[0mself\u001b[0m\u001b[0;34m.\u001b[0m\u001b[0mnames\u001b[0m\u001b[0;34m[\u001b[0m\u001b[0mActorTag\u001b[0m\u001b[0;34m(\u001b[0m\u001b[0mname\u001b[0m\u001b[0;34m)\u001b[0m\u001b[0;34m]\u001b[0m \u001b[0;34m=\u001b[0m \u001b[0mCall\u001b[0m\u001b[0;34m(\u001b[0m\u001b[0mfunc_name\u001b[0m\u001b[0;34m,\u001b[0m \u001b[0margs\u001b[0m\u001b[0;34m)\u001b[0m\u001b[0;34m\u001b[0m\u001b[0;34m\u001b[0m\u001b[0m\n\u001b[1;32m    417\u001b[0m \u001b[0;34m\u001b[0m\u001b[0m\n",
      "\u001b[0;32m~/PycharmProjects/dff/dff/script/import_export/parser/processors/recursive_parser.py\u001b[0m in \u001b[0;36mcheck_actor_args\u001b[0;34m(self, actor_args, path)\u001b[0m\n\u001b[1;32m    246\u001b[0m \u001b[0;34m\u001b[0m\u001b[0m\n\u001b[1;32m    247\u001b[0m         \u001b[0;31m# validate script\u001b[0m\u001b[0;34m\u001b[0m\u001b[0;34m\u001b[0m\u001b[0;34m\u001b[0m\u001b[0m\n\u001b[0;32m--> 248\u001b[0;31m         \u001b[0mself\u001b[0m\u001b[0;34m.\u001b[0m\u001b[0mtraverse_dict\u001b[0m\u001b[0;34m(\u001b[0m\u001b[0mscript\u001b[0m\u001b[0;34m,\u001b[0m \u001b[0;34m[\u001b[0m\u001b[0mpath\u001b[0m\u001b[0;34m]\u001b[0m\u001b[0;34m,\u001b[0m \u001b[0mvalidate_path\u001b[0m\u001b[0;34m,\u001b[0m \u001b[0;34m{\u001b[0m\u001b[0;34m\"project\"\u001b[0m\u001b[0;34m:\u001b[0m \u001b[0mself\u001b[0m\u001b[0;34m}\u001b[0m\u001b[0;34m)\u001b[0m\u001b[0;34m\u001b[0m\u001b[0;34m\u001b[0m\u001b[0m\n\u001b[0m\u001b[1;32m    249\u001b[0m \u001b[0;34m\u001b[0m\u001b[0m\n\u001b[1;32m    250\u001b[0m         \u001b[0;32mif\u001b[0m \u001b[0mdependencies\u001b[0m\u001b[0;34m[\u001b[0m\u001b[0;34m\"graph\"\u001b[0m\u001b[0;34m]\u001b[0m\u001b[0;34m:\u001b[0m\u001b[0;34m\u001b[0m\u001b[0;34m\u001b[0m\u001b[0m\n",
      "\u001b[0;32m~/PycharmProjects/dff/dff/script/import_export/parser/processors/recursive_parser.py\u001b[0m in \u001b[0;36mtraverse_dict\u001b[0;34m(self, script, paths, traversal_stop_callback, func_kwargs, stop_condition, traversed_path)\u001b[0m\n\u001b[1;32m    216\u001b[0m                     \u001b[0;32mreturn\u001b[0m \u001b[0;32mNone\u001b[0m\u001b[0;34m\u001b[0m\u001b[0;34m\u001b[0m\u001b[0m\n\u001b[1;32m    217\u001b[0m                 self.traverse_dict(\n\u001b[0;32m--> 218\u001b[0;31m                     \u001b[0mvalue\u001b[0m\u001b[0;34m,\u001b[0m \u001b[0mpaths\u001b[0m \u001b[0;34m+\u001b[0m \u001b[0;34m[\u001b[0m\u001b[0mpath\u001b[0m\u001b[0;34m]\u001b[0m\u001b[0;34m,\u001b[0m \u001b[0mtraversal_stop_callback\u001b[0m\u001b[0;34m,\u001b[0m \u001b[0mfunc_kwargs\u001b[0m\u001b[0;34m,\u001b[0m \u001b[0mstop_condition\u001b[0m\u001b[0;34m,\u001b[0m \u001b[0mcurrent_traversed_path\u001b[0m\u001b[0;34m\u001b[0m\u001b[0;34m\u001b[0m\u001b[0m\n\u001b[0m\u001b[1;32m    219\u001b[0m                 )\n\u001b[1;32m    220\u001b[0m             \u001b[0;32melse\u001b[0m\u001b[0;34m:\u001b[0m\u001b[0;34m\u001b[0m\u001b[0;34m\u001b[0m\u001b[0m\n",
      "\u001b[0;32m~/PycharmProjects/dff/dff/script/import_export/parser/processors/recursive_parser.py\u001b[0m in \u001b[0;36mtraverse_dict\u001b[0;34m(self, script, paths, traversal_stop_callback, func_kwargs, stop_condition, traversed_path)\u001b[0m\n\u001b[1;32m    216\u001b[0m                     \u001b[0;32mreturn\u001b[0m \u001b[0;32mNone\u001b[0m\u001b[0;34m\u001b[0m\u001b[0;34m\u001b[0m\u001b[0m\n\u001b[1;32m    217\u001b[0m                 self.traverse_dict(\n\u001b[0;32m--> 218\u001b[0;31m                     \u001b[0mvalue\u001b[0m\u001b[0;34m,\u001b[0m \u001b[0mpaths\u001b[0m \u001b[0;34m+\u001b[0m \u001b[0;34m[\u001b[0m\u001b[0mpath\u001b[0m\u001b[0;34m]\u001b[0m\u001b[0;34m,\u001b[0m \u001b[0mtraversal_stop_callback\u001b[0m\u001b[0;34m,\u001b[0m \u001b[0mfunc_kwargs\u001b[0m\u001b[0;34m,\u001b[0m \u001b[0mstop_condition\u001b[0m\u001b[0;34m,\u001b[0m \u001b[0mcurrent_traversed_path\u001b[0m\u001b[0;34m\u001b[0m\u001b[0;34m\u001b[0m\u001b[0m\n\u001b[0m\u001b[1;32m    219\u001b[0m                 )\n\u001b[1;32m    220\u001b[0m             \u001b[0;32melse\u001b[0m\u001b[0;34m:\u001b[0m\u001b[0;34m\u001b[0m\u001b[0;34m\u001b[0m\u001b[0m\n",
      "\u001b[0;32m~/PycharmProjects/dff/dff/script/import_export/parser/processors/recursive_parser.py\u001b[0m in \u001b[0;36mtraverse_dict\u001b[0;34m(self, script, paths, traversal_stop_callback, func_kwargs, stop_condition, traversed_path)\u001b[0m\n\u001b[1;32m    216\u001b[0m                     \u001b[0;32mreturn\u001b[0m \u001b[0;32mNone\u001b[0m\u001b[0;34m\u001b[0m\u001b[0;34m\u001b[0m\u001b[0m\n\u001b[1;32m    217\u001b[0m                 self.traverse_dict(\n\u001b[0;32m--> 218\u001b[0;31m                     \u001b[0mvalue\u001b[0m\u001b[0;34m,\u001b[0m \u001b[0mpaths\u001b[0m \u001b[0;34m+\u001b[0m \u001b[0;34m[\u001b[0m\u001b[0mpath\u001b[0m\u001b[0;34m]\u001b[0m\u001b[0;34m,\u001b[0m \u001b[0mtraversal_stop_callback\u001b[0m\u001b[0;34m,\u001b[0m \u001b[0mfunc_kwargs\u001b[0m\u001b[0;34m,\u001b[0m \u001b[0mstop_condition\u001b[0m\u001b[0;34m,\u001b[0m \u001b[0mcurrent_traversed_path\u001b[0m\u001b[0;34m\u001b[0m\u001b[0;34m\u001b[0m\u001b[0m\n\u001b[0m\u001b[1;32m    219\u001b[0m                 )\n\u001b[1;32m    220\u001b[0m             \u001b[0;32melse\u001b[0m\u001b[0;34m:\u001b[0m\u001b[0;34m\u001b[0m\u001b[0;34m\u001b[0m\u001b[0m\n",
      "\u001b[0;32m~/PycharmProjects/dff/dff/script/import_export/parser/processors/recursive_parser.py\u001b[0m in \u001b[0;36mtraverse_dict\u001b[0;34m(self, script, paths, traversal_stop_callback, func_kwargs, stop_condition, traversed_path)\u001b[0m\n\u001b[1;32m    199\u001b[0m             \u001b[0mpath\u001b[0m \u001b[0;34m=\u001b[0m \u001b[0mcopy\u001b[0m\u001b[0;34m(\u001b[0m\u001b[0mpaths\u001b[0m\u001b[0;34m[\u001b[0m\u001b[0;34m-\u001b[0m\u001b[0;36m1\u001b[0m\u001b[0;34m]\u001b[0m\u001b[0;34m)\u001b[0m\u001b[0;34m\u001b[0m\u001b[0;34m\u001b[0m\u001b[0m\n\u001b[1;32m    200\u001b[0m \u001b[0;34m\u001b[0m\u001b[0m\n\u001b[0;32m--> 201\u001b[0;31m             \u001b[0mpath\u001b[0m\u001b[0;34m.\u001b[0m\u001b[0mappend\u001b[0m\u001b[0;34m(\u001b[0m\u001b[0mkey\u001b[0m\u001b[0;34m.\u001b[0m\u001b[0mdisplay_value\u001b[0m\u001b[0;34m)\u001b[0m\u001b[0;34m\u001b[0m\u001b[0;34m\u001b[0m\u001b[0m\n\u001b[0m\u001b[1;32m    202\u001b[0m \u001b[0;34m\u001b[0m\u001b[0m\n\u001b[1;32m    203\u001b[0m             \u001b[0;32mif\u001b[0m \u001b[0misinstance\u001b[0m\u001b[0;34m(\u001b[0m\u001b[0mvalue\u001b[0m\u001b[0;34m,\u001b[0m \u001b[0mPython\u001b[0m\u001b[0;34m)\u001b[0m\u001b[0;34m:\u001b[0m\u001b[0;34m\u001b[0m\u001b[0;34m\u001b[0m\u001b[0m\n",
      "\u001b[0;31mAttributeError\u001b[0m: 'tuple' object has no attribute 'display_value'"
     ]
    }
   ],
   "source": [
    "dff.script.import_export.parser.py2graph(\n",
    "    root_file=main_file,\n",
    "    project_root_dir=working_dir,\n",
    "    output_file=output_file\n",
    ")"
   ]
  },
  {
   "cell_type": "code",
   "execution_count": null,
   "id": "a8cbeb85",
   "metadata": {},
   "outputs": [],
   "source": [
    "import networkx as nx\n",
    "import json\n",
    "\n",
    "with open(output_file, \"r\") as data:\n",
    "    graph = nx.node_link_graph(json.load(data), True, True)"
   ]
  },
  {
   "cell_type": "code",
   "execution_count": null,
   "id": "75868fa0",
   "metadata": {},
   "outputs": [],
   "source": [
    "nx.draw_networkx(graph, font_size=6)"
   ]
  },
  {
   "cell_type": "markdown",
   "id": "d29de45c",
   "metadata": {},
   "source": [
    "**_Note:_** labels from ``dff.core.engine.core.labels`` such as ``dff.core.engine.core.labels.repeat`` are not yet supported and edges that use them refer to a node ``(\"NONE\", )`` instead."
   ]
  }
 ],
 "metadata": {
  "kernelspec": {
   "display_name": "Python 3 (ipykernel)",
   "language": "python",
   "name": "python3"
  },
  "language_info": {
   "codemirror_mode": {
    "name": "ipython",
    "version": 3
   },
   "file_extension": ".py",
   "mimetype": "text/x-python",
   "name": "python",
   "nbconvert_exporter": "python",
   "pygments_lexer": "ipython3",
   "version": "3.7.13"
  }
 },
 "nbformat": 4,
 "nbformat_minor": 5
}
